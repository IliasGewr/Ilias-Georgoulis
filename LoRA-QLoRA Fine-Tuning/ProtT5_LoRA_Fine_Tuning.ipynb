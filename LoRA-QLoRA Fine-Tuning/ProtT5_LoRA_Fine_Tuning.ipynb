{
  "nbformat": 4,
  "nbformat_minor": 0,
  "metadata": {
    "colab": {
      "provenance": [],
      "machine_shape": "hm",
      "gpuType": "L4"
    },
    "kernelspec": {
      "name": "python3",
      "display_name": "Python 3"
    },
    "language_info": {
      "name": "python"
    },
    "accelerator": "GPU"
  },
  "cells": [
    {
      "cell_type": "markdown",
      "source": [
        "# ProtT5 models fine-tuning with LoRA for Antimicrobial Peptides (AMP) Classification\n",
        "\n",
        "## Overview\n",
        "This notebook demonstrates the process of:\n",
        "1. Fine-tuning ProtT5 models with Low-Rank Adaptation (LoRA) to perform AMP classification (AMP vs non-AMP ).\n",
        "2. Evaluating the model's performance using metrics such as accuracy, precision, recall, F1-score, ROC AUC, and Matthews correlation coefficient (MCC)."
      ],
      "metadata": {
        "id": "oGVmmWIxs8O4"
      }
    },
    {
      "cell_type": "markdown",
      "source": [
        "## Acknowledgment\n",
        "\n",
        "The implementation of Low-Rank Adaptation (LoRA) and the model adaptation code used in this notebook have been adapted from the work by Robert Schmirler et al. The original repository can be found at:\n",
        "\n",
        "- [GitHub Repository: PLM Fine-Tuning Evaluation](https://github.com/RSchmirler/data-repo_plm-finetune-eval)\n"
      ],
      "metadata": {
        "id": "XopZ87o8s_5P"
      }
    },
    {
      "cell_type": "code",
      "execution_count": null,
      "metadata": {
        "id": "O_jKZ8MSiTxV"
      },
      "outputs": [],
      "source": [
        "# Install dependencies\n",
        "!pip install datasets evaluate==0.4.0 biopython datasets wandb transformers peft\n",
        "!pip install -U bitsandbytes accelerate"
      ]
    },
    {
      "cell_type": "code",
      "source": [
        "# Import necessary libraries\n",
        "\n",
        "import os.path\n",
        "from Bio import SeqIO\n",
        "import torch\n",
        "import torch.nn as nn\n",
        "import torch.nn.functional as F\n",
        "from torch.nn import BCEWithLogitsLoss, CrossEntropyLoss, MSELoss\n",
        "import re\n",
        "import numpy as np\n",
        "import pandas as pd\n",
        "import copy\n",
        "import transformers, datasets\n",
        "from transformers.modeling_outputs import SequenceClassifierOutput\n",
        "from transformers.models.t5.modeling_t5 import T5Config, T5PreTrainedModel, T5Stack\n",
        "from transformers.utils.model_parallel_utils import assert_device_map, get_device_map\n",
        "from transformers import T5EncoderModel, T5Tokenizer\n",
        "from transformers import TrainingArguments, Trainer, set_seed\n",
        "from peft import get_peft_config, PeftConfig, inject_adapter_in_model, LoraConfig\n",
        "from evaluate import load\n",
        "from datasets import Dataset\n",
        "import random\n",
        "from sklearn.metrics import accuracy_score\n",
        "from sklearn.metrics import precision_recall_fscore_support, roc_auc_score, matthews_corrcoef"
      ],
      "metadata": {
        "id": "Lu9UvwvTjLJj"
      },
      "execution_count": null,
      "outputs": []
    },
    {
      "cell_type": "markdown",
      "source": [
        "## Helper Functions for Data Loading and Processing"
      ],
      "metadata": {
        "id": "HRFmxxb1-9kM"
      }
    },
    {
      "cell_type": "code",
      "source": [
        "def load_fasta(file_path):\n",
        "    \"\"\"\n",
        "    Load sequences from a FASTA file and return them in a DataFrame.\n",
        "\n",
        "    Args:\n",
        "        file_path (str): Path to the FASTA file.\n",
        "\n",
        "    Returns:\n",
        "        pd.DataFrame: DataFrame containing 'seq_id' and 'sequence'.\n",
        "    \"\"\"\n",
        "    with open(os.path.abspath(file_path)) as fasta_file:\n",
        "        seq_ids, sequences = [], []\n",
        "        for seq_record in SeqIO.parse(fasta_file, \"fasta\"):\n",
        "            sequences.append(str(seq_record.seq))\n",
        "            seq_ids.append(seq_record.id)\n",
        "    data = pd.DataFrame({\"seq_id\": seq_ids, \"sequence\": sequences})\n",
        "    data.drop_duplicates(inplace=True)\n",
        "    data.reset_index(drop=True, inplace=True)\n",
        "    return data"
      ],
      "metadata": {
        "id": "Z-L1KTRb_DAy"
      },
      "execution_count": null,
      "outputs": []
    },
    {
      "cell_type": "code",
      "source": [
        "def preprocess_sequences(data):\n",
        "    \"\"\"\n",
        "    Preprocess sequences by separating letters and replacing invalid characters.\n",
        "\n",
        "    Args:\n",
        "        data (pd.DataFrame): DataFrame containing sequences.\n",
        "\n",
        "    Returns:\n",
        "        pd.DataFrame: Updated DataFrame with 'Separated' and 'Processed' columns.\n",
        "    \"\"\"\n",
        "    def process_sequence(sequence):\n",
        "        # Separate letters with spaces and replace invalid characters\n",
        "        separated = ' '.join(sequence)\n",
        "        processed = re.sub(r\"[UZOB]\", \"X\", separated)\n",
        "        return separated, processed\n",
        "\n",
        "    # Apply preprocessing to each sequence\n",
        "    data[['Separated', 'Processed']] = data['sequence'].apply(\n",
        "        lambda seq: pd.Series(process_sequence(seq))\n",
        "    )\n",
        "    return data\n",
        "\n",
        "\n",
        "def prepare_dataset_with_preprocessing(amp_fasta, non_amp_fasta):\n",
        "    \"\"\"\n",
        "    Prepare datasets by loading and preprocessing AMP and non-AMP sequences.\n",
        "\n",
        "    Args:\n",
        "        amp_fasta (str): Path to the AMP FASTA file.\n",
        "        non_amp_fasta (str): Path to the non-AMP FASTA file.\n",
        "\n",
        "    Returns:\n",
        "        tuple: (data, labels) where:\n",
        "            - data (pd.DataFrame): Contains seq_id, sequence, Separated, and Processed columns.\n",
        "            - labels (list of int): Binary labels (1 for AMP, 0 for non-AMP).\n",
        "    \"\"\"\n",
        "    amp_data = load_fasta(amp_fasta)\n",
        "    non_amp_data = load_fasta(non_amp_fasta)\n",
        "\n",
        "    # Preprocess the sequences\n",
        "    amp_data = preprocess_sequences(amp_data)\n",
        "    non_amp_data = preprocess_sequences(non_amp_data)\n",
        "\n",
        "    # Combine data and create labels\n",
        "    data = pd.concat([amp_data, non_amp_data], ignore_index=True)\n",
        "    labels = [1] * len(amp_data) + [0] * len(non_amp_data)\n",
        "\n",
        "    return data, labels"
      ],
      "metadata": {
        "id": "k9Qw8rBuvNNI"
      },
      "execution_count": null,
      "outputs": []
    },
    {
      "cell_type": "markdown",
      "metadata": {
        "id": "5oa4SxVpZSJ_"
      },
      "source": [
        "### Data Preparation\n",
        "Loading and processing training and test datasets.\n"
      ]
    },
    {
      "cell_type": "code",
      "execution_count": null,
      "metadata": {
        "id": "5tUPXQv3G2Pb"
      },
      "outputs": [],
      "source": [
        "# File paths for training and validation data\n",
        "\n",
        "# Train datasets\n",
        "train_amp_fasta = \"/path/to/your/folder/DRAMP_pretrain_train_positive.fasta\"\n",
        "train_non_amp_fasta = \"/path/to/your/folder/DRAMP_pretrain_train_negative.fasta\"\n",
        "\n",
        "# Validation datasets\n",
        "val_amp_fasta = \"/path/to/your/folder/DRAMP_pretrain_val_positive.fasta\"\n",
        "val_non_amp_fasta = \"/path/to/your/folder/DRAMP_pretrain_val_negative.fasta\"\n",
        "\n",
        "# Test datasets\n",
        "test_amp_fasta = \"/path/to/your/folder/DRAMP_AMP.fasta\"\n",
        "test_non_amp_fasta = \"/path/to/your/folder/DRAMP_nonAMP.fasta\""
      ]
    },
    {
      "cell_type": "code",
      "execution_count": null,
      "metadata": {
        "colab": {
          "base_uri": "https://localhost:8080/"
        },
        "id": "kawQhLMpH2iD",
        "outputId": "67a22126-40ad-48c5-88c8-07c9a44b5a3e"
      },
      "outputs": [
        {
          "output_type": "stream",
          "name": "stdout",
          "text": [
            "Sample Processed Training Data:\n",
            "            seq_id                                           sequence  \\\n",
            "0       DRAMP02197  MFTMKKSLLLFFFLGTISLSLCEEERGADEDDGVELTEEEVKRGLL...   \n",
            "1       AMPfun_779                                       GATPEDLNQKLS   \n",
            "2        ADAM_1998                       GIMDSVKGLAKNLAGKLLDSLKCKITGC   \n",
            "3        ADAM_5276                         RFRLPFRRPPIRIHPPPFYPPFRRFL   \n",
            "4  LAMP_L01A001891     KGLKKDSDFRRVGISVSKKVGKAITRNRVRRLIKEKIKDIVFIKNL   \n",
            "\n",
            "                                           Separated  \\\n",
            "0  M F T M K K S L L L F F F L G T I S L S L C E ...   \n",
            "1                            G A T P E D L N Q K L S   \n",
            "2  G I M D S V K G L A K N L A G K L L D S L K C ...   \n",
            "3  R F R L P F R R P P I R I H P P P F Y P P F R ...   \n",
            "4  K G L K K D S D F R R V G I S V S K K V G K A ...   \n",
            "\n",
            "                                           Processed  \n",
            "0  M F T M K K S L L L F F F L G T I S L S L C E ...  \n",
            "1                            G A T P E D L N Q K L S  \n",
            "2  G I M D S V K G L A K N L A G K L L D S L K C ...  \n",
            "3  R F R L P F R R P P I R I H P P P F Y P P F R ...  \n",
            "4  K G L K K D S D F R R V G I S V S K K V G K A ...  \n"
          ]
        }
      ],
      "source": [
        "# Prepare datasets\n",
        "train_sequences, train_labels = prepare_dataset_with_preprocessing(train_amp_fasta, train_non_amp_fasta)\n",
        "validation_sequences, validation_labels = prepare_dataset_with_preprocessing(val_amp_fasta, val_non_amp_fasta)\n",
        "test_sequences, test_labels = prepare_dataset_with_preprocessing(test_amp_fasta, test_non_amp_fasta)\n",
        "\n",
        "# Display sample processed data\n",
        "print(\"Sample Processed Training Data:\")\n",
        "print(train_sequences.head())"
      ]
    },
    {
      "cell_type": "markdown",
      "source": [
        "### Key Classes and Functions\n",
        "- **`ClassConfig`**: Configuration function for model's calssification head.\n",
        "- **`T5EncoderClassificationHead`**: Custom classification head for ProtT5 models.\n",
        "- **`T5EncoderForSimpleSequenceClassification`**: Custom ProtT5 encoder model with a classification head.\n",
        "- **`inject_adapter_in_model`**: LoRA-based parameter adaptation."
      ],
      "metadata": {
        "id": "q4IFmDBQTJvg"
      }
    },
    {
      "cell_type": "code",
      "source": [
        "class ClassConfig:\n",
        "    def __init__(self, dropout=0.2, num_labels=2):\n",
        "        self.dropout_rate = dropout\n",
        "        self.num_labels = num_labels\n",
        "\n",
        "class T5EncoderClassificationHead(nn.Module):\n",
        "    \"\"\"Head for sentence-level classification tasks.\"\"\"\n",
        "\n",
        "    def __init__(self, config, class_config):\n",
        "        super().__init__()\n",
        "        self.dense = nn.Linear(config.hidden_size, config.hidden_size)\n",
        "        self.dropout = nn.Dropout(class_config.dropout_rate)\n",
        "        self.out_proj = nn.Linear(config.hidden_size, class_config.num_labels)\n",
        "\n",
        "    def forward(self, hidden_states):\n",
        "\n",
        "        hidden_states =  torch.mean(hidden_states,dim=1)  # avg embedding\n",
        "\n",
        "        hidden_states = self.dropout(hidden_states)\n",
        "        hidden_states = self.dense(hidden_states)\n",
        "        hidden_states = torch.tanh(hidden_states)\n",
        "        hidden_states = self.dropout(hidden_states)\n",
        "        hidden_states = self.out_proj(hidden_states)\n",
        "        return hidden_states"
      ],
      "metadata": {
        "id": "_72CDWAUt3am"
      },
      "execution_count": null,
      "outputs": []
    },
    {
      "cell_type": "code",
      "source": [
        "class T5EncoderForSimpleSequenceClassification(T5PreTrainedModel):\n",
        "\n",
        "    def __init__(self, config: T5Config, class_config):\n",
        "        super().__init__(config)\n",
        "        self.num_labels = class_config.num_labels\n",
        "        self.config = config\n",
        "\n",
        "        self.shared = nn.Embedding(config.vocab_size, config.d_model)\n",
        "\n",
        "        encoder_config = copy.deepcopy(config)\n",
        "        encoder_config.use_cache = False\n",
        "        encoder_config.is_encoder_decoder = False\n",
        "        self.encoder = T5Stack(encoder_config, self.shared)\n",
        "\n",
        "        self.dropout = nn.Dropout(class_config.dropout_rate)\n",
        "        self.classifier = T5EncoderClassificationHead(config, class_config)\n",
        "\n",
        "        # Initialize weights and apply final processing\n",
        "        self.post_init()\n",
        "\n",
        "        # Model parallel\n",
        "        self.model_parallel = False\n",
        "        self.device_map = None\n",
        "\n",
        "    def parallelize(self, device_map=None):\n",
        "        self.device_map = (\n",
        "            get_device_map(len(self.encoder.block), range(torch.cuda.device_count()))\n",
        "            if device_map is None\n",
        "            else device_map\n",
        "        )\n",
        "        assert_device_map(self.device_map, len(self.encoder.block))\n",
        "        self.encoder.parallelize(self.device_map)\n",
        "        self.classifier = self.classifier.to(self.encoder.first_device)\n",
        "        self.model_parallel = True\n",
        "\n",
        "    def deparallelize(self):\n",
        "        self.encoder.deparallelize()\n",
        "        self.encoder = self.encoder.to(\"cpu\")\n",
        "        self.model_parallel = False\n",
        "        self.device_map = None\n",
        "        torch.cuda.empty_cache()\n",
        "\n",
        "    def get_input_embeddings(self):\n",
        "        return self.shared\n",
        "\n",
        "    def set_input_embeddings(self, new_embeddings):\n",
        "        self.shared = new_embeddings\n",
        "        self.encoder.set_input_embeddings(new_embeddings)\n",
        "\n",
        "    def get_encoder(self):\n",
        "        return self.encoder\n",
        "\n",
        "    def _prune_heads(self, heads_to_prune):\n",
        "        \"\"\"\n",
        "        Prunes heads of the model. heads_to_prune: dict of {layer_num: list of heads to prune in this layer} See base\n",
        "        class PreTrainedModel\n",
        "        \"\"\"\n",
        "        for layer, heads in heads_to_prune.items():\n",
        "            self.encoder.layer[layer].attention.prune_heads(heads)\n",
        "\n",
        "    def forward(\n",
        "        self,\n",
        "        input_ids=None,\n",
        "        attention_mask=None,\n",
        "        head_mask=None,\n",
        "        inputs_embeds=None,\n",
        "        labels=None,\n",
        "        output_attentions=None,\n",
        "        output_hidden_states=None,\n",
        "        return_dict=None,\n",
        "    ):\n",
        "        return_dict = return_dict if return_dict is not None else self.config.use_return_dict\n",
        "\n",
        "        outputs = self.encoder(\n",
        "            input_ids=input_ids,\n",
        "            attention_mask=attention_mask,\n",
        "            inputs_embeds=inputs_embeds,\n",
        "            head_mask=head_mask,\n",
        "            output_attentions=output_attentions,\n",
        "            output_hidden_states=output_hidden_states,\n",
        "            return_dict=return_dict,\n",
        "        )\n",
        "\n",
        "        hidden_states = outputs[0]\n",
        "        logits = self.classifier(hidden_states)\n",
        "\n",
        "        loss = None\n",
        "        if labels is not None:\n",
        "            if self.config.problem_type is None:\n",
        "                if self.num_labels == 1:\n",
        "                    self.config.problem_type = \"regression\"\n",
        "                elif self.num_labels > 1 and (labels.dtype == torch.long or labels.dtype == torch.int):\n",
        "                    self.config.problem_type = \"single_label_classification\"\n",
        "                else:\n",
        "                    self.config.problem_type = \"multi_label_classification\"\n",
        "\n",
        "            if self.config.problem_type == \"regression\":\n",
        "                loss_fct = MSELoss()\n",
        "                if self.num_labels == 1:\n",
        "                    loss = loss_fct(logits.squeeze(), labels.squeeze())\n",
        "                else:\n",
        "                    loss = loss_fct(logits, labels)\n",
        "            elif self.config.problem_type == \"single_label_classification\":\n",
        "                loss_fct = CrossEntropyLoss()\n",
        "                loss = loss_fct(logits.view(-1, self.num_labels), labels.view(-1))\n",
        "            elif self.config.problem_type == \"multi_label_classification\":\n",
        "                loss_fct = BCEWithLogitsLoss()\n",
        "                loss = loss_fct(logits, labels)\n",
        "        if not return_dict:\n",
        "            output = (logits,) + outputs[1:]\n",
        "            return ((loss,) + output) if loss is not None else output\n",
        "\n",
        "        return SequenceClassifierOutput(\n",
        "            loss=loss,\n",
        "            logits=logits,\n",
        "            hidden_states=outputs.hidden_states,\n",
        "            attentions=outputs.attentions,\n",
        "        )"
      ],
      "metadata": {
        "id": "oN7aLFQcl8cJ"
      },
      "execution_count": null,
      "outputs": []
    },
    {
      "cell_type": "markdown",
      "source": [
        "##Model and Tokenizer Loading"
      ],
      "metadata": {
        "id": "Ks88Wd-jTzdc"
      }
    },
    {
      "cell_type": "code",
      "source": [
        "#@title ProtT5 Model Versions Table\n",
        "\n",
        "from IPython.core.display import HTML\n",
        "\n",
        "html_table_prott5 = \"\"\"\n",
        "<style>\n",
        "    table {\n",
        "        font-family: Arial, sans-serif;\n",
        "        border-collapse: collapse;\n",
        "        width: 80%;\n",
        "        margin: auto;\n",
        "        font-size: 16px;\n",
        "    }\n",
        "    th, td {\n",
        "        border: 1px solid #dddddd;\n",
        "        text-align: center;\n",
        "        padding: 8px;\n",
        "    }\n",
        "    th {\n",
        "        background-color: #f2f2f2;\n",
        "        color: #333;\n",
        "    }\n",
        "    tr:nth-child(even) {\n",
        "        background-color: #f9f9f9;\n",
        "    }\n",
        "    tr:hover {\n",
        "        background-color: #f1f1f1;\n",
        "    }\n",
        "</style>\n",
        "<table>\n",
        "    <thead>\n",
        "        <tr>\n",
        "            <th>ProtT5 Model Version (Shorthand)</th>\n",
        "            <th># Params</th>\n",
        "            <th>Embedding Dim</th>\n",
        "            <th>Training Dataset</th>\n",
        "        </tr>\n",
        "    </thead>\n",
        "    <tbody>\n",
        "        <tr>\n",
        "            <td>prot_t5_xl_half_uniref50-enc (xl_half)</td>\n",
        "            <td>3B</td>\n",
        "            <td>1024</td>\n",
        "            <td>UniRef50</td>\n",
        "        </tr>\n",
        "        <tr>\n",
        "            <td>prot_t5_xl_bfd (xl_bfd)</td>\n",
        "            <td>3B</td>\n",
        "            <td>1024</td>\n",
        "            <td>BFD</td>\n",
        "        </tr>\n",
        "        <tr>\n",
        "            <td>prot_t5_xl_uniref50 (xl_uni)</td>\n",
        "            <td>3B</td>\n",
        "            <td>1024</td>\n",
        "            <td>UniRef50</td>\n",
        "        </tr>\n",
        "        <tr>\n",
        "            <td>prot_t5_xxl_bfd (xxl_bfd)</td>\n",
        "            <td>11B</td>\n",
        "            <td>1024</td>\n",
        "            <td>BFD</td>\n",
        "        </tr>\n",
        "        <tr>\n",
        "            <td>prot_t5_xxl_uniref50 (xxl_uni)</td>\n",
        "            <td>11B</td>\n",
        "            <td>1024</td>\n",
        "            <td>UniRef50</td>\n",
        "        </tr>\n",
        "    </tbody>\n",
        "</table>\n",
        "\"\"\"\n",
        "\n",
        "display(HTML(html_table_prott5))\n"
      ],
      "metadata": {
        "colab": {
          "base_uri": "https://localhost:8080/",
          "height": 240
        },
        "cellView": "form",
        "id": "Rp3NZlYNWP8L",
        "outputId": "2b0cc457-1215-4f36-f221-290c24c51e92"
      },
      "execution_count": null,
      "outputs": [
        {
          "output_type": "display_data",
          "data": {
            "text/plain": [
              "<IPython.core.display.HTML object>"
            ],
            "text/html": [
              "\n",
              "<style>\n",
              "    table {\n",
              "        font-family: Arial, sans-serif;\n",
              "        border-collapse: collapse;\n",
              "        width: 80%;\n",
              "        margin: auto;\n",
              "        font-size: 16px;\n",
              "    }\n",
              "    th, td {\n",
              "        border: 1px solid #dddddd;\n",
              "        text-align: center;\n",
              "        padding: 8px;\n",
              "    }\n",
              "    th {\n",
              "        background-color: #f2f2f2;\n",
              "        color: #333;\n",
              "    }\n",
              "    tr:nth-child(even) {\n",
              "        background-color: #f9f9f9;\n",
              "    }\n",
              "    tr:hover {\n",
              "        background-color: #f1f1f1;\n",
              "    }\n",
              "</style>\n",
              "<table>\n",
              "    <thead>\n",
              "        <tr>\n",
              "            <th>ProtT5 Model Version (Shorthand)</th>\n",
              "            <th># Params</th>\n",
              "            <th>Embedding Dim</th>\n",
              "            <th>Training Dataset</th>\n",
              "        </tr>\n",
              "    </thead>\n",
              "    <tbody>\n",
              "        <tr>\n",
              "            <td>prot_t5_xl_half_uniref50-enc (xl_half)</td>\n",
              "            <td>3B</td>\n",
              "            <td>1024</td>\n",
              "            <td>UniRef50</td>\n",
              "        </tr>\n",
              "        <tr>\n",
              "            <td>prot_t5_xl_bfd (xl_bfd)</td>\n",
              "            <td>3B</td>\n",
              "            <td>1024</td>\n",
              "            <td>BFD</td>\n",
              "        </tr>\n",
              "        <tr>\n",
              "            <td>prot_t5_xl_uniref50 (xl_uni)</td>\n",
              "            <td>3B</td>\n",
              "            <td>1024</td>\n",
              "            <td>UniRef50</td>\n",
              "        </tr>\n",
              "        <tr>\n",
              "            <td>prot_t5_xxl_bfd (xxl_bfd)</td>\n",
              "            <td>11B</td>\n",
              "            <td>1024</td>\n",
              "            <td>BFD</td>\n",
              "        </tr>\n",
              "        <tr>\n",
              "            <td>prot_t5_xxl_uniref50 (xxl_uni)</td>\n",
              "            <td>11B</td>\n",
              "            <td>1024</td>\n",
              "            <td>UniRef50</td>\n",
              "        </tr>\n",
              "    </tbody>\n",
              "</table>\n"
            ]
          },
          "metadata": {}
        }
      ]
    },
    {
      "cell_type": "code",
      "source": [
        "# Load ProtT5 model and tokenizer\n",
        "def load_T5_model(model_variant, num_labels):\n",
        "    \"\"\"\n",
        "    Load a specified ProtT5 model variant using shorthand names.\n",
        "\n",
        "    Args:\n",
        "        model_variant (str): Shorthand for the ProtT5 model variant to load. Options are:\n",
        "                             't5_xl', 't5_xl_bfd', 't5_xxl', 't5_xxl_bfd'.\n",
        "        num_labels (int): Number of labels for the classification task.\n",
        "\n",
        "    Returns:\n",
        "        model: The loaded ProtT5 model.\n",
        "        tokenizer: The corresponding tokenizer for the model.\n",
        "    \"\"\"\n",
        "    # Define model checkpoints mapped to shorthand names\n",
        "    model_checkpoints = {\n",
        "        \"xl_half\": \"Rostlab/prot_t5_xl_half_uniref50-enc\",\n",
        "        \"xl_bfd\": \"Rostlab/prot_t5_xl_bfd\",\n",
        "        \"xl_uni\": \"Rostlab/prot_t5_xl_uniref50\",\n",
        "        \"xxl_bfd\": \"Rostlab/prot_t5_xxl_bfd\",\n",
        "        \"xxl_uni\": \"Rostlab/prot_t5_xxl_uniref50\",\n",
        "    }\n",
        "\n",
        "    # Validate the model_variant input\n",
        "    if model_variant not in model_checkpoints:\n",
        "        raise ValueError(f\"Invalid model variant '{model_variant}'. \"\n",
        "                         f\"Choose from {list(model_checkpoints.keys())}.\")\n",
        "\n",
        "    # Load the tokenizer\n",
        "    tokenizer = T5Tokenizer.from_pretrained(model_checkpoints[model_variant], do_lower_case=False)\n",
        "\n",
        "    # Load the model\n",
        "    model = T5EncoderModel.from_pretrained(model_checkpoints[model_variant])\n",
        "\n",
        "    return model, tokenizer\n"
      ],
      "metadata": {
        "id": "wXuKrHyIl8cJ"
      },
      "execution_count": null,
      "outputs": []
    },
    {
      "cell_type": "code",
      "source": [
        "# Load model and tokenizer\n",
        "model, tokenizer = load_T5_model('xl_uni', num_labels=2)"
      ],
      "metadata": {
        "id": "1HVbsCycnzIe"
      },
      "execution_count": null,
      "outputs": []
    },
    {
      "cell_type": "markdown",
      "source": [
        "##Tokenizing and Formatting Data\n",
        "\n",
        "Tokenize train/validation/test datasets and prepare them for LoRA fine-tuning."
      ],
      "metadata": {
        "id": "qvHayJStczQ4"
      }
    },
    {
      "cell_type": "code",
      "source": [
        "def create_dataset(tokenizer, processed_data, labels):\n",
        "    \"\"\"\n",
        "    Tokenizes preprocessed sequences and creates a Hugging Face Dataset for model input.\n",
        "\n",
        "    Args:\n",
        "        tokenizer (transformers.PreTrainedTokenizer): The tokenizer corresponding to the model.\n",
        "        processed_data (pd.DataFrame): DataFrame containing preprocessed sequences\n",
        "                                       in the 'Processed' column (output of `preprocess_sequences`).\n",
        "        labels (list of int): List of labels corresponding to the sequences.\n",
        "\n",
        "    Returns:\n",
        "        datasets.Dataset: A Hugging Face Dataset object containing tokenized input_ids,\n",
        "                          attention masks, and labels.\n",
        "    \"\"\"\n",
        "\n",
        "    # Extract processed sequences\n",
        "    sequences = processed_data['Processed'].tolist()\n",
        "\n",
        "    # Tokenize the sequences with padding and truncation\n",
        "    tokenized = tokenizer(sequences, padding=True, truncation=True, max_length=1024)\n",
        "\n",
        "    # Create a Hugging Face Dataset with input_ids, attention masks, and labels\n",
        "    dataset = Dataset.from_dict({\n",
        "        'input_ids': tokenized['input_ids'],\n",
        "        'attention_mask': tokenized['attention_mask'],\n",
        "        'labels': labels\n",
        "    })\n",
        "\n",
        "    return dataset"
      ],
      "metadata": {
        "id": "8yLSa74i2E9B"
      },
      "execution_count": null,
      "outputs": []
    },
    {
      "cell_type": "code",
      "source": [
        "# Create train, validation, and test datasets\n",
        "train_dataset = create_dataset(tokenizer, train_sequences, train_labels)\n",
        "validation_dataset = create_dataset(tokenizer, validation_sequences, validation_labels)\n",
        "test_dataset = create_dataset(tokenizer, test_sequences, test_labels)"
      ],
      "metadata": {
        "id": "G5WuXk1slo5a"
      },
      "execution_count": null,
      "outputs": []
    },
    {
      "cell_type": "markdown",
      "source": [
        "## Training Configuration and LoRA Setup"
      ],
      "metadata": {
        "id": "OPxgUN1jUItR"
      }
    },
    {
      "cell_type": "code",
      "source": [
        "# Define training arguments\n",
        "training_args = TrainingArguments(\n",
        "    output_dir=\"output\",\n",
        "    learning_rate=0.001,\n",
        "    per_device_train_batch_size=16,\n",
        "    num_train_epochs=5,\n",
        "    evaluation_strategy=\"epoch\",\n",
        "    save_strategy=\"epoch\",\n",
        "    load_best_model_at_end=True,\n",
        "    metric_for_best_model=\"f1\",\n",
        "    fp16=True,\n",
        "    gradient_accumulation_steps=1, # Increase this value to simulate a larger effective batch size\n",
        "                                   # when GPU memory is limited. Reduce per-device batch size accordingly.\n",
        "    save_safetensors=False,\n",
        "    report_to=\"none\"\n",
        ")"
      ],
      "metadata": {
        "colab": {
          "base_uri": "https://localhost:8080/"
        },
        "id": "CJHtnDMsoheY",
        "outputId": "8e6131e9-ce58-4322-9b7e-e5dab13274ff"
      },
      "execution_count": null,
      "outputs": [
        {
          "output_type": "stream",
          "name": "stderr",
          "text": [
            "/usr/local/lib/python3.11/dist-packages/transformers/training_args.py:1575: FutureWarning: `evaluation_strategy` is deprecated and will be removed in version 4.46 of 🤗 Transformers. Use `eval_strategy` instead\n",
            "  warnings.warn(\n"
          ]
        }
      ]
    },
    {
      "cell_type": "code",
      "source": [
        "# Set random seeds for reproducibility of your trainings run\n",
        "def set_seeds(s):\n",
        "    torch.manual_seed(s)\n",
        "    np.random.seed(s)\n",
        "    random.seed(s)\n",
        "    set_seed(s)\n",
        "\n",
        "set_seeds(4)"
      ],
      "metadata": {
        "id": "la0VHiOdjqQ_"
      },
      "execution_count": null,
      "outputs": []
    },
    {
      "cell_type": "code",
      "source": [
        "# Create new Classifier model with PT5 dimensions\n",
        "class_config=ClassConfig(num_labels=2, dropout=0.1)\n",
        "class_model=T5EncoderForSimpleSequenceClassification(model.config,class_config)\n",
        "\n",
        "# Set encoder and embedding weights to checkpoint weights\n",
        "class_model.shared=model.shared\n",
        "class_model.encoder=model.encoder\n",
        "\n",
        "# Delete the checkpoint model\n",
        "model = class_model\n",
        "del class_model"
      ],
      "metadata": {
        "id": "rWLpgmxNo2lU"
      },
      "execution_count": null,
      "outputs": []
    },
    {
      "cell_type": "code",
      "source": [
        "# Define LoRA configuration\n",
        "peft_config = LoraConfig(\n",
        "    r=1,\n",
        "    lora_alpha=1.0,\n",
        "    bias=\"lora_only\",\n",
        "    target_modules=[\"q\",\"k\",\"v\",\"o\"],\n",
        "    lora_dropout=0.1\n",
        ")\n",
        "\n",
        "model = inject_adapter_in_model(peft_config, model)\n",
        "\n",
        "# Unfreeze the prediction head\n",
        "for (param_name, param) in model.classifier.named_parameters():\n",
        "            param.requires_grad = True"
      ],
      "metadata": {
        "id": "MgCzPSYzo2oT"
      },
      "execution_count": null,
      "outputs": []
    },
    {
      "cell_type": "code",
      "source": [
        "# Define custom compute_metrics for the trainer\n",
        "def compute_metrics(eval_pred):\n",
        "    logits, labels = eval_pred\n",
        "    predictions = np.argmax(logits, axis=1)\n",
        "    accuracy = accuracy_score(labels, predictions)\n",
        "    precision, recall, f1, _ = precision_recall_fscore_support(labels, predictions, average='binary')\n",
        "    roc_auc = roc_auc_score(labels, logits[:, 1]) if len(np.unique(labels)) == 2 else float('nan')\n",
        "    mcc = matthews_corrcoef(labels, predictions)\n",
        "    return {'accuracy': accuracy, 'precision': precision, 'recall': recall, 'f1': f1, 'mcc': mcc, 'roc_auc': roc_auc}"
      ],
      "metadata": {
        "id": "ME1w-dsK2umF"
      },
      "execution_count": null,
      "outputs": []
    },
    {
      "cell_type": "code",
      "source": [
        "# Initialize Trainer\n",
        "trainer = Trainer(\n",
        "    model=model,\n",
        "    args=training_args,\n",
        "    train_dataset=train_dataset,\n",
        "    eval_dataset=validation_dataset,\n",
        "    tokenizer=tokenizer,\n",
        "    compute_metrics=compute_metrics\n",
        ")\n"
      ],
      "metadata": {
        "colab": {
          "base_uri": "https://localhost:8080/"
        },
        "id": "sSufKSVKrm-r",
        "outputId": "828aff4c-56c7-4875-a432-f041f3ac20e9"
      },
      "execution_count": null,
      "outputs": [
        {
          "output_type": "stream",
          "name": "stderr",
          "text": [
            "<ipython-input-38-320305828fa6>:2: FutureWarning: `tokenizer` is deprecated and will be removed in version 5.0.0 for `Trainer.__init__`. Use `processing_class` instead.\n",
            "  trainer = Trainer(\n"
          ]
        }
      ]
    },
    {
      "cell_type": "markdown",
      "source": [
        "## Training and Evaluation"
      ],
      "metadata": {
        "id": "C70mFxHsUmWe"
      }
    },
    {
      "cell_type": "code",
      "source": [
        "# Train the model\n",
        "trainer.train()\n",
        "\n",
        "# Evaluate and save results\n",
        "predictions = trainer.predict(test_dataset)\n",
        "logits = predictions.predictions\n",
        "probabilities = F.softmax(torch.tensor(logits), dim=1).numpy()\n",
        "metrics = compute_metrics((logits, predictions.label_ids))"
      ],
      "metadata": {
        "colab": {
          "base_uri": "https://localhost:8080/",
          "height": 232
        },
        "id": "xfJJbJ7VUsiY",
        "outputId": "f02016bb-ba93-4db8-dc9e-0d59ea955e3f"
      },
      "execution_count": null,
      "outputs": [
        {
          "output_type": "display_data",
          "data": {
            "text/plain": [
              "<IPython.core.display.HTML object>"
            ],
            "text/html": [
              "\n",
              "    <div>\n",
              "      \n",
              "      <progress value='2380' max='2380' style='width:300px; height:20px; vertical-align: middle;'></progress>\n",
              "      [2380/2380 21:03, Epoch 5/5]\n",
              "    </div>\n",
              "    <table border=\"1\" class=\"dataframe\">\n",
              "  <thead>\n",
              " <tr style=\"text-align: left;\">\n",
              "      <th>Epoch</th>\n",
              "      <th>Training Loss</th>\n",
              "      <th>Validation Loss</th>\n",
              "      <th>Accuracy</th>\n",
              "      <th>Precision</th>\n",
              "      <th>Recall</th>\n",
              "      <th>F1</th>\n",
              "      <th>Mcc</th>\n",
              "      <th>Roc Auc</th>\n",
              "    </tr>\n",
              "  </thead>\n",
              "  <tbody>\n",
              "    <tr>\n",
              "      <td>1</td>\n",
              "      <td>No log</td>\n",
              "      <td>0.151771</td>\n",
              "      <td>0.940095</td>\n",
              "      <td>0.935065</td>\n",
              "      <td>0.950254</td>\n",
              "      <td>0.942598</td>\n",
              "      <td>0.880094</td>\n",
              "      <td>0.985296</td>\n",
              "    </tr>\n",
              "    <tr>\n",
              "      <td>2</td>\n",
              "      <td>0.182600</td>\n",
              "      <td>0.200227</td>\n",
              "      <td>0.936942</td>\n",
              "      <td>0.913876</td>\n",
              "      <td>0.969543</td>\n",
              "      <td>0.940887</td>\n",
              "      <td>0.875199</td>\n",
              "      <td>0.988226</td>\n",
              "    </tr>\n",
              "    <tr>\n",
              "      <td>3</td>\n",
              "      <td>0.110900</td>\n",
              "      <td>0.189685</td>\n",
              "      <td>0.945875</td>\n",
              "      <td>0.936634</td>\n",
              "      <td>0.960406</td>\n",
              "      <td>0.948371</td>\n",
              "      <td>0.891824</td>\n",
              "      <td>0.988763</td>\n",
              "    </tr>\n",
              "    <tr>\n",
              "      <td>4</td>\n",
              "      <td>0.070000</td>\n",
              "      <td>0.221844</td>\n",
              "      <td>0.945349</td>\n",
              "      <td>0.935707</td>\n",
              "      <td>0.960406</td>\n",
              "      <td>0.947896</td>\n",
              "      <td>0.890792</td>\n",
              "      <td>0.987801</td>\n",
              "    </tr>\n",
              "    <tr>\n",
              "      <td>5</td>\n",
              "      <td>0.044000</td>\n",
              "      <td>0.229537</td>\n",
              "      <td>0.950604</td>\n",
              "      <td>0.945055</td>\n",
              "      <td>0.960406</td>\n",
              "      <td>0.952669</td>\n",
              "      <td>0.901155</td>\n",
              "      <td>0.988284</td>\n",
              "    </tr>\n",
              "  </tbody>\n",
              "</table><p>"
            ]
          },
          "metadata": {}
        },
        {
          "output_type": "display_data",
          "data": {
            "text/plain": [
              "<IPython.core.display.HTML object>"
            ],
            "text/html": []
          },
          "metadata": {}
        }
      ]
    },
    {
      "cell_type": "code",
      "source": [
        "from pprint import pprint\n",
        "\n",
        "# Print metrics on test set\n",
        "pprint(metrics)"
      ],
      "metadata": {
        "colab": {
          "base_uri": "https://localhost:8080/"
        },
        "id": "k5iODRo_VDCW",
        "outputId": "a1ffbaff-693f-4138-ecf7-1824aac9fbd0"
      },
      "execution_count": null,
      "outputs": [
        {
          "output_type": "stream",
          "name": "stdout",
          "text": [
            "{'accuracy': 0.7926136363636364,\n",
            " 'f1': 0.7523324851569126,\n",
            " 'mcc': 0.618884476415949,\n",
            " 'precision': 0.9336842105263158,\n",
            " 'recall': 0.6299715909090909,\n",
            " 'roc_auc': 0.8593520487635589}\n"
          ]
        }
      ]
    },
    {
      "cell_type": "code",
      "source": [
        "from sklearn.metrics import confusion_matrix, ConfusionMatrixDisplay\n",
        "import matplotlib.pyplot as plt\n",
        "\n",
        "# Generate predictions\n",
        "predicted_labels = np.argmax(logits, axis=1)\n",
        "\n",
        "# Compute confusion matrix\n",
        "cm = confusion_matrix(predictions.label_ids, predicted_labels)\n",
        "\n",
        "# Display the confusion matrix\n",
        "disp = ConfusionMatrixDisplay(confusion_matrix=cm, display_labels=[\"Non-AMP\", \"AMP\"])\n",
        "disp.plot(cmap=plt.cm.Blues)\n",
        "plt.title(\"Confusion Matrix\")\n",
        "plt.show()"
      ],
      "metadata": {
        "colab": {
          "base_uri": "https://localhost:8080/",
          "height": 472
        },
        "id": "q_Nh7BROVKs_",
        "outputId": "9fc27c7a-12a1-494e-99ee-e35c9887c9a8"
      },
      "execution_count": null,
      "outputs": [
        {
          "output_type": "display_data",
          "data": {
            "text/plain": [
              "<Figure size 640x480 with 2 Axes>"
            ],
            "image/png": "[encoded data removed]"
          },
          "metadata": {}
        }
      ]
    }
  ]
}