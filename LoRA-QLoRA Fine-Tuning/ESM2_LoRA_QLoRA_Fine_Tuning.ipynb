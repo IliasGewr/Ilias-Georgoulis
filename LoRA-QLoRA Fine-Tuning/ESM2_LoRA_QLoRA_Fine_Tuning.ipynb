{
  "nbformat": 4,
  "nbformat_minor": 0,
  "metadata": {
    "colab": {
      "provenance": [],
      "machine_shape": "hm",
      "gpuType": "T4"
    },
    "kernelspec": {
      "name": "python3",
      "display_name": "Python 3"
    },
    "language_info": {
      "name": "python"
    },
    "accelerator": "GPU"
  },
  "cells": [
    {
      "cell_type": "markdown",
      "source": [
        "# ESM2 fine-tuning with LoRA/QLoRA for Antimicrobial Peptides (AMP) Classification\n",
        "\n",
        "## Overview\n",
        "This notebook demonstrates the process of:\n",
        "1. Fine-tuning ESM2 models with Low-Rank Adaptation (LoRA) or Quantized Low-Rank Adaptation (QLoRA) to perform AMP classification (AMP vs non-AMP ).\n",
        "2. Evaluating the model's performance using metrics such as accuracy, precision, recall, F1-score, ROC AUC, and Matthews correlation coefficient (MCC)."
      ],
      "metadata": {
        "id": "oGVmmWIxs8O4"
      }
    },
    {
      "cell_type": "code",
      "execution_count": null,
      "metadata": {
        "id": "7q1rRJr7YWIN"
      },
      "outputs": [],
      "source": [
        "# Install dependencies\n",
        "\n",
        "!pip install datasets wandb transformers peft biopython accelerate>=0.21.0 bitsandbytes"
      ]
    },
    {
      "cell_type": "code",
      "source": [
        "# Import necessary libraries\n",
        "\n",
        "import torch\n",
        "import torch.nn as nn\n",
        "import pandas as pd\n",
        "from transformers import AutoTokenizer, EsmForSequenceClassification, Trainer, TrainingArguments, BitsAndBytesConfig\n",
        "from Bio import SeqIO\n",
        "from datasets import Dataset\n",
        "from peft import LoraConfig, get_peft_model, TaskType, LoftQConfig, get_peft_config, PeftModel, PeftConfig, TaskType, prepare_model_for_kbit_training\n",
        "import numpy as np\n",
        "from sklearn.metrics import accuracy_score, precision_recall_fscore_support, roc_auc_score, matthews_corrcoef\n",
        "from transformers import AutoModelForSequenceClassification\n",
        "from peft import LoraConfig, get_peft_model, TaskType, LoftQConfig\n",
        "import bitsandbytes as bnb\n",
        "from transformers import BitsAndBytesConfig\n",
        "import gc\n",
        "import wandb\n",
        "import os\n",
        "import argparse\n",
        "import random"
      ],
      "metadata": {
        "id": "DTCY-miIBxAi"
      },
      "execution_count": null,
      "outputs": []
    },
    {
      "cell_type": "markdown",
      "source": [
        "## Helper Functions for Data Loading and Preparation"
      ],
      "metadata": {
        "id": "TKXnv23B_B_U"
      }
    },
    {
      "cell_type": "code",
      "source": [
        "# Function to load sequences from a FASTA file\n",
        "def load_fasta(file_path):\n",
        "    \"\"\"\n",
        "    Load sequences from a FASTA file.\n",
        "\n",
        "    Args:\n",
        "        file_path (str): Path to the FASTA file.\n",
        "\n",
        "    Returns:\n",
        "        list: A list of sequences from the FASTA file.\n",
        "    \"\"\"\n",
        "    sequences = []\n",
        "    for record in SeqIO.parse(file_path, \"fasta\"):\n",
        "        sequences.append(str(record.seq))\n",
        "    return sequences"
      ],
      "metadata": {
        "id": "PW-GvnYx4pUG"
      },
      "execution_count": null,
      "outputs": []
    },
    {
      "cell_type": "code",
      "source": [
        "def prepare_dataset(amp_fasta, non_amp_fasta):\n",
        "    \"\"\"\n",
        "    Prepare datasets by loading sequences and generating labels.\n",
        "\n",
        "    Args:\n",
        "        amp_fasta (str): Path to the AMP FASTA file.\n",
        "        non_amp_fasta (str): Path to the non-AMP FASTA file.\n",
        "\n",
        "    Returns:\n",
        "        tuple: A tuple containing:\n",
        "            - sequences (list): List of sequences.\n",
        "            - labels (list): Binary labels (1 for AMP, 0 for non-AMP).\n",
        "    \"\"\"\n",
        "    amp_data = load_fasta(amp_fasta)\n",
        "    non_amp_data = load_fasta(non_amp_fasta)\n",
        "    sequences = amp_data + non_amp_data\n",
        "    labels = [1] * len(amp_data) + [0] * len(non_amp_data)\n",
        "    return sequences, labels"
      ],
      "metadata": {
        "id": "GauyTlOk-Z0j"
      },
      "execution_count": null,
      "outputs": []
    },
    {
      "cell_type": "markdown",
      "source": [
        "### Data Preparation\n",
        "Loading and processing training, validation and test datasets."
      ],
      "metadata": {
        "id": "YtK8c7FC_xGM"
      }
    },
    {
      "cell_type": "code",
      "source": [
        "# File paths for training, validation, and test datasets\n",
        "train_amp_fasta = \"/path/to/your/folder/DRAMP_pretrain_train_positive.fasta\"\n",
        "train_non_amp_fasta = \"/path/to/your/folder/DRAMP_pretrain_train_negative.fasta\"\n",
        "\n",
        "validation_amp_fasta = \"/path/to/your/folder/DRAMP_pretrain_val_positive.fasta\"\n",
        "validation_non_amp_fasta = \"/path/to/your/folder/DRAMP_pretrain_val_negative.fasta\"\n",
        "\n",
        "test_amp_fasta = \"/path/to/your/folder/DRAMP_AMP.fasta\"\n",
        "test_non_amp_fasta = \"/path/to/your/folder/DRAMP_nonAMP.fasta\""
      ],
      "metadata": {
        "id": "Pck3Uni1-frq"
      },
      "execution_count": null,
      "outputs": []
    },
    {
      "cell_type": "code",
      "source": [
        "# Prepare datasets\n",
        "\n",
        "train_sequences, train_labels = prepare_dataset(train_amp_fasta, train_non_amp_fasta)\n",
        "validation_sequences, validation_labels = prepare_dataset(val_amp_fasta, val_non_amp_fasta)\n",
        "test_sequences, test_labels = prepare_dataset(test_amp_fasta, test_non_amp_fasta)"
      ],
      "metadata": {
        "id": "EttyafJs-yKl"
      },
      "execution_count": null,
      "outputs": []
    },
    {
      "cell_type": "markdown",
      "source": [
        "### ESM2 Model Selection and Loading\n",
        "Select model and provide the shorthand to load_esm2_model function to load it. For QLoRA fine-tuning quantized model has to be loaded by defining \"quantized=True\" in load_esm2_model function."
      ],
      "metadata": {
        "id": "Cv0hhFxd_NcS"
      }
    },
    {
      "cell_type": "code",
      "source": [
        "#@title ESM2 Model Versions Table\n",
        "\n",
        "from IPython.core.display import HTML\n",
        "\n",
        "html_table = \"\"\"\n",
        "<style>\n",
        "    table {\n",
        "        font-family: Arial, sans-serif;\n",
        "        border-collapse: collapse;\n",
        "        width: 80%;\n",
        "        margin: auto;\n",
        "        font-size: 16px;\n",
        "    }\n",
        "    th, td {\n",
        "        border: 1px solid #dddddd;\n",
        "        text-align: center;\n",
        "        padding: 8px;\n",
        "    }\n",
        "    th {\n",
        "        background-color: #f2f2f2;\n",
        "        color: #333;\n",
        "    }\n",
        "    tr:nth-child(even) {\n",
        "        background-color: #f9f9f9;\n",
        "    }\n",
        "    tr:hover {\n",
        "        background-color: #f1f1f1;\n",
        "    }\n",
        "</style>\n",
        "<table>\n",
        "    <thead>\n",
        "        <tr>\n",
        "            <th>ESM-2 Model Version (Shorthand)</th>\n",
        "            <th># Layers</th>\n",
        "            <th># Params</th>\n",
        "            <th>Embedding Dim</th>\n",
        "        </tr>\n",
        "    </thead>\n",
        "    <tbody>\n",
        "        <tr>\n",
        "            <td>esm2_t48_15B_UR50D (t48)</td>\n",
        "            <td>48</td>\n",
        "            <td>15B</td>\n",
        "            <td>5120</td>\n",
        "        </tr>\n",
        "        <tr>\n",
        "            <td>esm2_t36_3B_UR50D (t36)</td>\n",
        "            <td>36</td>\n",
        "            <td>3B</td>\n",
        "            <td>2560</td>\n",
        "        </tr>\n",
        "        <tr>\n",
        "            <td>esm2_t33_650M_UR50D (t33)</td>\n",
        "            <td>33</td>\n",
        "            <td>650M</td>\n",
        "            <td>1280</td>\n",
        "        </tr>\n",
        "        <tr>\n",
        "            <td>esm2_t30_150M_UR50D (t30)</td>\n",
        "            <td>30</td>\n",
        "            <td>150M</td>\n",
        "            <td>640</td>\n",
        "        </tr>\n",
        "        <tr>\n",
        "            <td>esm2_t12_35M_UR50D (t12)</td>\n",
        "            <td>12</td>\n",
        "            <td>35M</td>\n",
        "            <td>480</td>\n",
        "        </tr>\n",
        "        <tr>\n",
        "            <td>esm2_t6_8M_UR50D (t6)</td>\n",
        "            <td>6</td>\n",
        "            <td>8M</td>\n",
        "            <td>320</td>\n",
        "        </tr>\n",
        "    </tbody>\n",
        "</table>\n",
        "\"\"\"\n",
        "\n",
        "display(HTML(html_table))\n",
        "\n",
        "\n"
      ],
      "metadata": {
        "colab": {
          "base_uri": "https://localhost:8080/",
          "height": 276
        },
        "cellView": "form",
        "id": "rjO9olDofYJU",
        "outputId": "4710afd6-9d42-4580-a5fc-6e9708fbd651"
      },
      "execution_count": null,
      "outputs": [
        {
          "output_type": "display_data",
          "data": {
            "text/plain": [
              "<IPython.core.display.HTML object>"
            ],
            "text/html": [
              "\n",
              "<style>\n",
              "    table {\n",
              "        font-family: Arial, sans-serif;\n",
              "        border-collapse: collapse;\n",
              "        width: 80%;\n",
              "        margin: auto;\n",
              "        font-size: 16px;\n",
              "    }\n",
              "    th, td {\n",
              "        border: 1px solid #dddddd;\n",
              "        text-align: center;\n",
              "        padding: 8px;\n",
              "    }\n",
              "    th {\n",
              "        background-color: #f2f2f2;\n",
              "        color: #333;\n",
              "    }\n",
              "    tr:nth-child(even) {\n",
              "        background-color: #f9f9f9;\n",
              "    }\n",
              "    tr:hover {\n",
              "        background-color: #f1f1f1;\n",
              "    }\n",
              "</style>\n",
              "<table>\n",
              "    <thead>\n",
              "        <tr>\n",
              "            <th>ESM-2 Model Version (Shorthand)</th>\n",
              "            <th># Layers</th>\n",
              "            <th># Params</th>\n",
              "            <th>Embedding Dim</th>\n",
              "        </tr>\n",
              "    </thead>\n",
              "    <tbody>\n",
              "        <tr>\n",
              "            <td>esm2_t48_15B_UR50D (t48)</td>\n",
              "            <td>48</td>\n",
              "            <td>15B</td>\n",
              "            <td>5120</td>\n",
              "        </tr>\n",
              "        <tr>\n",
              "            <td>esm2_t36_3B_UR50D (t36)</td>\n",
              "            <td>36</td>\n",
              "            <td>3B</td>\n",
              "            <td>2560</td>\n",
              "        </tr>\n",
              "        <tr>\n",
              "            <td>esm2_t33_650M_UR50D (t33)</td>\n",
              "            <td>33</td>\n",
              "            <td>650M</td>\n",
              "            <td>1280</td>\n",
              "        </tr>\n",
              "        <tr>\n",
              "            <td>esm2_t30_150M_UR50D (t30)</td>\n",
              "            <td>30</td>\n",
              "            <td>150M</td>\n",
              "            <td>640</td>\n",
              "        </tr>\n",
              "        <tr>\n",
              "            <td>esm2_t12_35M_UR50D (t12)</td>\n",
              "            <td>12</td>\n",
              "            <td>35M</td>\n",
              "            <td>480</td>\n",
              "        </tr>\n",
              "        <tr>\n",
              "            <td>esm2_t6_8M_UR50D (t6)</td>\n",
              "            <td>6</td>\n",
              "            <td>8M</td>\n",
              "            <td>320</td>\n",
              "        </tr>\n",
              "    </tbody>\n",
              "</table>\n"
            ]
          },
          "metadata": {}
        }
      ]
    },
    {
      "cell_type": "code",
      "source": [
        "def load_esm2_model(shorthand, quantized=False):\n",
        "    \"\"\"\n",
        "    Load a pretrained ESM-2 model and tokenizer based on its shorthand identifier,\n",
        "    with an option to load the model in quantized mode for QLoRA.\n",
        "\n",
        "    Args:\n",
        "        shorthand (str): Model shorthand (e.g., 't12', 't33').\n",
        "        quantized (bool): Whether to load the model with quantization. Default is False.\n",
        "\n",
        "    Returns:\n",
        "        model: Loaded ESM-2 model.\n",
        "        tokenizer: Loaded tokenizer for the ESM-2 model.\n",
        "    \"\"\"\n",
        "\n",
        "    # Define model versions\n",
        "    model_versions = {\n",
        "        \"t48\": \"esm2_t48_15B_UR50D\",\n",
        "        \"t36\": \"esm2_t36_3B_UR50D\",\n",
        "        \"t33\": \"esm2_t33_650M_UR50D\",\n",
        "        \"t30\": \"esm2_t30_150M_UR50D\",\n",
        "        \"t12\": \"esm2_t12_35M_UR50D\",\n",
        "        \"t6\": \"esm2_t6_8M_UR50D\",\n",
        "    }\n",
        "\n",
        "    # Validate shorthand\n",
        "    if shorthand not in model_versions:\n",
        "        raise ValueError(f\"Invalid model shorthand '{shorthand}'.\")\n",
        "\n",
        "    model_name = model_versions[shorthand]\n",
        "\n",
        "    # Load the tokenizer\n",
        "    tokenizer = AutoTokenizer.from_pretrained(f\"facebook/{model_name}\")\n",
        "\n",
        "    if quantized:\n",
        "        # Configure quantization\n",
        "        bnb_config = BitsAndBytesConfig(\n",
        "          load_in_4bit=True,\n",
        "          bnb_4bit_use_double_quant=True,\n",
        "          bnb_4bit_quant_type=\"nf4\",\n",
        "          llm_int8_skip_modules=[\"classifier\", \"pre_classifier\"],\n",
        "          bnb_4bit_compute_dtype=torch.bfloat16\n",
        "          )\n",
        "        # Load the quantized model\n",
        "        model = EsmForSequenceClassification.from_pretrained(\n",
        "            f\"facebook/{model_name}\",\n",
        "            num_labels=2,\n",
        "            quantization_config=bnb_config\n",
        "        )\n",
        "    else:\n",
        "        # Load the regular model\n",
        "        model = EsmForSequenceClassification.from_pretrained(f\"facebook/{model_name}\", num_labels=2)\n",
        "\n",
        "    return model, tokenizer\n",
        "\n",
        "# Choose model's shorthand\n",
        "shorthand = \"t6\"\n",
        "\n",
        "# Load the model\n",
        "model, tokenizer = load_esm2_model(shorthand, quantized=False)\n"
      ],
      "metadata": {
        "colab": {
          "base_uri": "https://localhost:8080/"
        },
        "id": "IvYVJVYTCNqj",
        "outputId": "653264ac-737c-4030-9e47-786c680f0b49"
      },
      "execution_count": null,
      "outputs": [
        {
          "output_type": "stream",
          "name": "stderr",
          "text": [
            "Some weights of EsmForSequenceClassification were not initialized from the model checkpoint at facebook/esm2_t6_8M_UR50D and are newly initialized: ['classifier.dense.bias', 'classifier.dense.weight', 'classifier.out_proj.bias', 'classifier.out_proj.weight']\n",
            "You should probably TRAIN this model on a down-stream task to be able to use it for predictions and inference.\n"
          ]
        }
      ]
    },
    {
      "cell_type": "markdown",
      "source": [
        "##Data Loading and Preperation\n",
        "\n",
        "Load train/validation/test datasets, tokenize and prepare them for LoRA/QLoRA fine-tuning."
      ],
      "metadata": {
        "id": "qvHayJStczQ4"
      }
    },
    {
      "cell_type": "code",
      "source": [
        "def tokenize_and_create_dataset(sequences, labels, tokenizer, max_length=512):\n",
        "    \"\"\"\n",
        "    Tokenize sequences and create a Dataset object.\n",
        "\n",
        "    Args:\n",
        "        sequences (list): List of sequences to tokenize.\n",
        "        labels (list): List of labels corresponding to the sequences.\n",
        "        tokenizer (AutoTokenizer): Pretrained tokenizer for the model.\n",
        "        max_length (int): Maximum token length for sequences.\n",
        "\n",
        "    Returns:\n",
        "        Dataset: A Hugging Face Dataset object containing tokenized inputs and labels.\n",
        "    \"\"\"\n",
        "    tokenized = tokenizer(\n",
        "        sequences,\n",
        "        padding=True,\n",
        "        truncation=True,\n",
        "        max_length=max_length,\n",
        "        return_tensors=\"pt\",\n",
        "    )\n",
        "    return Dataset.from_dict({**tokenized, \"labels\": labels})"
      ],
      "metadata": {
        "id": "VnHhXStCAo88"
      },
      "execution_count": null,
      "outputs": []
    },
    {
      "cell_type": "code",
      "source": [
        "# Tokenize and create Dataset object for each dataset\n",
        "\n",
        "train_dataset = tokenize_and_create_dataset(train_sequences, train_labels, tokenizer)\n",
        "validation_dataset = tokenize_and_create_dataset(validation_sequences, val_labels, tokenizer)\n",
        "test_dataset = tokenize_and_create_dataset(test_sequences, test_labels, tokenizer)\n"
      ],
      "metadata": {
        "id": "ioVCjlrwA1q6"
      },
      "execution_count": null,
      "outputs": []
    },
    {
      "cell_type": "markdown",
      "source": [
        "## Training Configuration and LoRA/QLoRA Setup"
      ],
      "metadata": {
        "id": "oNvRqToCdOjK"
      }
    },
    {
      "cell_type": "code",
      "source": [
        "# Configure LoRA\n",
        "lora_config = LoraConfig(\n",
        "    task_type= TaskType.SEQ_CLS,\n",
        "    inference_mode=False,\n",
        "    r=1,\n",
        "    lora_alpha=1.0,\n",
        "    lora_dropout=0.1,\n",
        "    bias=\"lora_only\",\n",
        "    target_modules=[\"query\", \"key\", \"value\"]\n",
        ")"
      ],
      "metadata": {
        "id": "IdNCvWQnp2a3"
      },
      "execution_count": null,
      "outputs": []
    },
    {
      "cell_type": "code",
      "source": [
        "# Define training arguments\n",
        "training_args = TrainingArguments(\n",
        "    output_dir=\"output\",\n",
        "    learning_rate=0.001,\n",
        "    num_train_epochs=3,\n",
        "    per_device_train_batch_size=16,\n",
        "    evaluation_strategy=\"epoch\",\n",
        "    save_strategy=\"epoch\",\n",
        "    load_best_model_at_end=True,\n",
        "    metric_for_best_model=\"f1\",\n",
        "    weight_decay=0.1,\n",
        "    fp16=True,\n",
        "    report_to=\"none\"\n",
        ")"
      ],
      "metadata": {
        "colab": {
          "base_uri": "https://localhost:8080/"
        },
        "id": "zyhaXxVBp7Wn",
        "outputId": "213b151d-f90b-4795-b00f-aee9551c10ad"
      },
      "execution_count": null,
      "outputs": [
        {
          "output_type": "stream",
          "name": "stderr",
          "text": [
            "/usr/local/lib/python3.11/dist-packages/transformers/training_args.py:1575: FutureWarning: `evaluation_strategy` is deprecated and will be removed in version 4.46 of 🤗 Transformers. Use `eval_strategy` instead\n",
            "  warnings.warn(\n"
          ]
        }
      ]
    },
    {
      "cell_type": "code",
      "source": [
        "# Define custom compute_metrics for the trainer\n",
        "\n",
        "def compute_metrics(p):\n",
        "    logits, true_labels = p\n",
        "    predictions = np.argmax(logits, axis=1)\n",
        "    accuracy = accuracy_score(true_labels, predictions)\n",
        "    precision, recall, f1, _ = precision_recall_fscore_support(true_labels, predictions, average='binary')\n",
        "\n",
        "    # Calculate ROC AUC Score if possible\n",
        "    roc_auc = roc_auc_score(true_labels, logits[:, 1]) if len(np.unique(true_labels)) == 2 else float('nan')\n",
        "\n",
        "    # Calculate Matthews correlation coefficient\n",
        "    mcc = matthews_corrcoef(true_labels, predictions)\n",
        "\n",
        "    return {\n",
        "        'accuracy': accuracy,\n",
        "        'precision': precision,\n",
        "        'recall': recall,\n",
        "        'f1': f1,\n",
        "        'mcc': mcc,  # Add MCC to the returned metrics\n",
        "        'roc_auc': roc_auc\n",
        "    }"
      ],
      "metadata": {
        "id": "jxKFTRf7BZuo"
      },
      "execution_count": null,
      "outputs": []
    },
    {
      "cell_type": "code",
      "source": [
        "# Function for random seed initialization\n",
        "\n",
        "def set_seed(seed):\n",
        "    random.seed(seed)\n",
        "    np.random.seed(seed)\n",
        "    torch.manual_seed(seed)\n",
        "    torch.cuda.manual_seed_all(seed)\n",
        "    torch.backends.cudnn.deterministic = True\n",
        "    torch.backends.cudnn.benchmark = False"
      ],
      "metadata": {
        "id": "TueimAsuqGIW"
      },
      "execution_count": null,
      "outputs": []
    },
    {
      "cell_type": "code",
      "source": [
        "# Function to apply PEFT configuration for not quantized and quantized model\n",
        "\n",
        "def apply_peft_model(model, lora_config):\n",
        "    \"\"\"\n",
        "    Automatically checks if the model is quantized (e.g., uses Linear4bit layers)\n",
        "    and applies PEFT configuration accordingly.\n",
        "\n",
        "    Args:\n",
        "        model: The base model to which PEFT will be applied.\n",
        "        lora_config: Configuration for LoRA.\n",
        "\n",
        "    Returns:\n",
        "        model: The model with PEFT applied.\n",
        "    \"\"\"\n",
        "\n",
        "    # Detect if the model is quantized by checking for Linear4bit layers\n",
        "    is_quantized = any(isinstance(module, nn.Linear) and \"4bit\" in str(type(module)) for module in model.modules())\n",
        "\n",
        "    if is_quantized:\n",
        "        # If the model is quantized, prepare it for QLoRA fine-tuning\n",
        "        model.gradient_checkpointing_enable()  # Enable gradient checkpointing for memory efficiency\n",
        "        model = prepare_model_for_kbit_training(model)\n",
        "\n",
        "    # Apply LoRA or QLoRA configuration\n",
        "    model = get_peft_model(model, lora_config)\n",
        "\n",
        "    return model\n",
        "\n",
        "model = apply_peft_model(model, lora_config)"
      ],
      "metadata": {
        "id": "q6hQSdnhJtjJ"
      },
      "execution_count": null,
      "outputs": []
    },
    {
      "cell_type": "code",
      "source": [
        "# Set random seed\n",
        "set_seed(42)\n",
        "\n",
        "# Define trainer\n",
        "trainer = Trainer(\n",
        "    model=model,\n",
        "    args=training_args,\n",
        "    train_dataset=train_dataset,\n",
        "    eval_dataset=validation_dataset,\n",
        "    tokenizer=tokenizer,\n",
        "    compute_metrics=compute_metrics\n",
        ")"
      ],
      "metadata": {
        "id": "LDLcVaNXe8xO",
        "colab": {
          "base_uri": "https://localhost:8080/"
        },
        "outputId": "d738c10c-4641-4201-80a6-0596c667d6b7"
      },
      "execution_count": null,
      "outputs": [
        {
          "output_type": "stream",
          "name": "stderr",
          "text": [
            "<ipython-input-38-3be7235b317e>:5: FutureWarning: `tokenizer` is deprecated and will be removed in version 5.0.0 for `Trainer.__init__`. Use `processing_class` instead.\n",
            "  trainer = Trainer(\n"
          ]
        }
      ]
    },
    {
      "cell_type": "markdown",
      "source": [
        "## Training and Evaluation"
      ],
      "metadata": {
        "id": "KawbE4vue_RY"
      }
    },
    {
      "cell_type": "code",
      "source": [
        "# Train the model\n",
        "trainer.train()\n",
        "\n",
        "# Predict on the test dataset\n",
        "predictions = trainer.predict(test_dataset)\n",
        "logits = predictions.predictions\n",
        "true_labels = predictions.label_ids\n",
        "probabilities = torch.nn.functional.softmax(torch.tensor(logits), dim=1).numpy()\n",
        "\n",
        "# Calculate metrics for test set\n",
        "test_metrics = compute_metrics((logits, true_labels))"
      ],
      "metadata": {
        "colab": {
          "base_uri": "https://localhost:8080/",
          "height": 170
        },
        "id": "2bsfdac2qp5w",
        "outputId": "8874088a-b998-481c-bc03-dc02d3f93018"
      },
      "execution_count": null,
      "outputs": [
        {
          "output_type": "display_data",
          "data": {
            "text/plain": [
              "<IPython.core.display.HTML object>"
            ],
            "text/html": [
              "\n",
              "    <div>\n",
              "      \n",
              "      <progress value='1428' max='1428' style='width:300px; height:20px; vertical-align: middle;'></progress>\n",
              "      [1428/1428 01:09, Epoch 3/3]\n",
              "    </div>\n",
              "    <table border=\"1\" class=\"dataframe\">\n",
              "  <thead>\n",
              " <tr style=\"text-align: left;\">\n",
              "      <th>Epoch</th>\n",
              "      <th>Training Loss</th>\n",
              "      <th>Validation Loss</th>\n",
              "      <th>Accuracy</th>\n",
              "      <th>Precision</th>\n",
              "      <th>Recall</th>\n",
              "      <th>F1</th>\n",
              "      <th>Mcc</th>\n",
              "      <th>Roc Auc</th>\n",
              "    </tr>\n",
              "  </thead>\n",
              "  <tbody>\n",
              "    <tr>\n",
              "      <td>1</td>\n",
              "      <td>No log</td>\n",
              "      <td>0.226196</td>\n",
              "      <td>0.910667</td>\n",
              "      <td>0.929399</td>\n",
              "      <td>0.895431</td>\n",
              "      <td>0.912099</td>\n",
              "      <td>0.821940</td>\n",
              "      <td>0.969751</td>\n",
              "    </tr>\n",
              "    <tr>\n",
              "      <td>2</td>\n",
              "      <td>0.276800</td>\n",
              "      <td>0.243016</td>\n",
              "      <td>0.910667</td>\n",
              "      <td>0.879776</td>\n",
              "      <td>0.958376</td>\n",
              "      <td>0.917396</td>\n",
              "      <td>0.824092</td>\n",
              "      <td>0.974242</td>\n",
              "    </tr>\n",
              "    <tr>\n",
              "      <td>3</td>\n",
              "      <td>0.194600</td>\n",
              "      <td>0.208207</td>\n",
              "      <td>0.917499</td>\n",
              "      <td>0.925926</td>\n",
              "      <td>0.913706</td>\n",
              "      <td>0.919775</td>\n",
              "      <td>0.834950</td>\n",
              "      <td>0.975677</td>\n",
              "    </tr>\n",
              "  </tbody>\n",
              "</table><p>"
            ]
          },
          "metadata": {}
        },
        {
          "output_type": "display_data",
          "data": {
            "text/plain": [
              "<IPython.core.display.HTML object>"
            ],
            "text/html": []
          },
          "metadata": {}
        }
      ]
    },
    {
      "cell_type": "code",
      "source": [
        "from pprint import pprint\n",
        "\n",
        "# Print the metrics for the test set\n",
        "pprint(test_metrics)\n"
      ],
      "metadata": {
        "colab": {
          "base_uri": "https://localhost:8080/"
        },
        "id": "_IcVO9IMC7JQ",
        "outputId": "cc3f7123-45d3-44af-eee5-8325d0037f40"
      },
      "execution_count": null,
      "outputs": [
        {
          "output_type": "stream",
          "name": "stdout",
          "text": [
            "{'accuracy': 0.7528409090909091,\n",
            " 'f1': 0.6952714535901926,\n",
            " 'mcc': 0.5461690367218998,\n",
            " 'precision': 0.906392694063927,\n",
            " 'recall': 0.5639204545454546,\n",
            " 'roc_auc': 0.8464161265980114}\n"
          ]
        }
      ]
    },
    {
      "cell_type": "code",
      "source": [
        "from sklearn.metrics import confusion_matrix, ConfusionMatrixDisplay\n",
        "import matplotlib.pyplot as plt\n",
        "\n",
        "# Generate predictions\n",
        "predictions = np.argmax(logits, axis=1)\n",
        "\n",
        "# Compute confusion matrix\n",
        "cm = confusion_matrix(true_labels, predictions)\n",
        "\n",
        "# Display the confusion matrix\n",
        "disp = ConfusionMatrixDisplay(confusion_matrix=cm, display_labels=[\"Non-AMP\", \"AMP\"])\n",
        "disp.plot(cmap=plt.cm.Blues)\n",
        "plt.title(\"Confusion Matrix\")\n",
        "plt.show()\n"
      ],
      "metadata": {
        "colab": {
          "base_uri": "https://localhost:8080/",
          "height": 472
        },
        "id": "lw8K6pZsETrA",
        "outputId": "0a757c02-5cf7-4c95-f679-da787bb9a053"
      },
      "execution_count": null,
      "outputs": [
        {
          "output_type": "display_data",
          "data": {
            "text/plain": [
              "<Figure size 640x480 with 2 Axes>"
            ],
            "image/png": "[encoded data removed]"
          },
          "metadata": {}
        }
      ]
    }
  ]
}