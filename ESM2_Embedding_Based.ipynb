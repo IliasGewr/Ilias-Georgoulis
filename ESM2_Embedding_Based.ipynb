{
  "nbformat": 4,
  "nbformat_minor": 0,
  "metadata": {
    "colab": {
      "provenance": [],
      "gpuType": "T4"
    },
    "kernelspec": {
      "name": "python3",
      "display_name": "Python 3"
    },
    "language_info": {
      "name": "python"
    },
    "accelerator": "GPU"
  },
  "cells": [
    {
      "cell_type": "markdown",
      "source": [
        "# ESM2 Embeddings Extraction and Antimicrobial Peptide (AMP) Classification\n",
        "\n",
        "## Overview\n",
        "This notebook demonstrates the process of:\n",
        "1. Extracting and saving sequence embeddings from protein sequences using ESM2 models.\n",
        "2. Train an SVM classifier to perform AMP classification (AMP vs non-AMP ).\n",
        "3. Evaluate SVM performance on an independent test set and calculate important metrics.\n",
        "\n",
        "\n"
      ],
      "metadata": {
        "id": "vOiHtboSYyPT"
      }
    },
    {
      "cell_type": "code",
      "source": [
        "# Install dependencies\n",
        "!pip install biopython numpy pandas torch tqdm scikit-learn seaborn matplotlib"
      ],
      "metadata": {
        "id": "W57Z_A4U5qSP"
      },
      "execution_count": null,
      "outputs": []
    },
    {
      "cell_type": "code",
      "execution_count": 2,
      "metadata": {
        "id": "dAXfgTkSQWTB"
      },
      "outputs": [],
      "source": [
        "# Import necessary libraries\n",
        "import numpy as np\n",
        "import pandas as pd\n",
        "from Bio import SeqIO\n",
        "import torch\n",
        "import gc\n",
        "import os\n",
        "from tqdm import tqdm\n",
        "from sklearn.svm import SVC\n",
        "from sklearn.metrics import accuracy_score, classification_report, confusion_matrix\n",
        "import seaborn as sns\n",
        "import matplotlib.pyplot as plt"
      ]
    },
    {
      "cell_type": "markdown",
      "source": [
        "## Helper Functions for Data Loading and Preparation"
      ],
      "metadata": {
        "id": "psLTwP9_1c71"
      }
    },
    {
      "cell_type": "code",
      "execution_count": 3,
      "metadata": {
        "id": "QkoQaYzvP9Sy"
      },
      "outputs": [],
      "source": [
        "# Function to load sequences from FASTA files\n",
        "def load_fasta(file_path):\n",
        "    \"\"\"\n",
        "    Load sequences from a FASTA file and return them in a DataFrame.\n",
        "\n",
        "    Args:\n",
        "        file_path (str): Path to the FASTA file.\n",
        "\n",
        "    Returns:\n",
        "        pd.DataFrame: DataFrame containing 'seq_id' and 'sequence'.\n",
        "    \"\"\"\n",
        "    with open(os.path.abspath(file_path)) as fasta_file:\n",
        "        seq_ids, sequences = [], []\n",
        "        for seq_record in SeqIO.parse(fasta_file, \"fasta\"):\n",
        "            sequences.append(str(seq_record.seq))\n",
        "            seq_ids.append(seq_record.id)\n",
        "    data = pd.DataFrame({\"seq_id\": seq_ids, \"sequence\": sequences})\n",
        "    data.drop_duplicates(inplace=True)\n",
        "    data.reset_index(drop=True, inplace=True)\n",
        "    return data\n"
      ]
    },
    {
      "cell_type": "code",
      "source": [
        "def prepare_dataset(amp_fasta, non_amp_fasta):\n",
        "    \"\"\"\n",
        "    Combine AMP and non-AMP sequences from FASTA files into a single dataset with sequence ids.\n",
        "\n",
        "    Args:\n",
        "        amp_fasta (str): Path to the FASTA file containing AMP sequences.\n",
        "        non_amp_fasta (str): Path to the FASTA file containing non-AMP sequences.\n",
        "\n",
        "    Returns:\n",
        "        tuple:\n",
        "            - data (list of tuples): Each tuple contains (seq_id, sequence).\n",
        "            - labels (list of int): Binary labels (1 for AMP, 0 for non-AMP).\n",
        "\n",
        "    Example:\n",
        "        >>> data, labels = prepare_dataset(\"amp.fasta\", \"non_amp.fasta\")\n",
        "    \"\"\"\n",
        "    amp_data = load_fasta(amp_fasta)\n",
        "    non_amp_data = load_fasta(non_amp_fasta)\n",
        "    data = list(zip(amp_data[\"seq_id\"], amp_data[\"sequence\"])) + \\\n",
        "           list(zip(non_amp_data[\"seq_id\"], non_amp_data[\"sequence\"]))\n",
        "    labels = [1] * len(amp_data) + [0] * len(non_amp_data)\n",
        "    return data, labels\n"
      ],
      "metadata": {
        "id": "Q5GOpoBm0n4N"
      },
      "execution_count": 4,
      "outputs": []
    },
    {
      "cell_type": "markdown",
      "source": [
        "### Data Preparation\n",
        "Loading and processing training and test datasets.\n"
      ],
      "metadata": {
        "id": "5oa4SxVpZSJ_"
      }
    },
    {
      "cell_type": "code",
      "source": [
        "# File paths for training and test data\n",
        "train_amp_fasta = \"/path/to/your/folder/DRAMP_pretrain_train_positive.fasta\"\n",
        "train_non_amp_fasta = \"/path/to/your/folder/DRAMP_pretrain_train_negative.fasta\"\n",
        "test_amp_fasta = \"/path/to/your/folder/DRAMP_AMP.fasta\"\n",
        "test_non_amp_fasta = \"/path/to/your/folder/DRAMP_nonAMP.fasta\""
      ],
      "metadata": {
        "id": "kawQhLMpH2iD"
      },
      "execution_count": 5,
      "outputs": []
    },
    {
      "cell_type": "code",
      "source": [
        "# Load datasets\n",
        "\n",
        "# Train data\n",
        "train_amp_data = load_fasta(train_amp_fasta)\n",
        "train_non_amp_data = load_fasta(train_non_amp_fasta)\n",
        "\n",
        "# Test data\n",
        "test_amp_data = load_fasta(test_amp_fasta)\n",
        "test_non_amp_data = load_fasta(test_non_amp_fasta)\n",
        "\n",
        "# Prepare combined datasets\n",
        "train_data, train_labels = prepare_dataset(train_amp_fasta, train_non_amp_fasta)\n",
        "test_data, test_labels = prepare_dataset(test_amp_fasta, test_non_amp_fasta)"
      ],
      "metadata": {
        "id": "MjF9_9FO2PIE"
      },
      "execution_count": 6,
      "outputs": []
    },
    {
      "cell_type": "markdown",
      "source": [
        "### ESM-2 Model Selection and Loading\n",
        "Select model and provide the shorthand to load_esm2_model function to load it."
      ],
      "metadata": {
        "id": "yXF-UnPaZ3ue"
      }
    },
    {
      "cell_type": "code",
      "source": [
        "#@title ESM2 Model Versions Table\n",
        "\n",
        "from IPython.core.display import HTML\n",
        "\n",
        "html_table = \"\"\"\n",
        "<style>\n",
        "    table {\n",
        "        font-family: Arial, sans-serif;\n",
        "        border-collapse: collapse;\n",
        "        width: 80%;\n",
        "        margin: auto;\n",
        "        font-size: 16px;\n",
        "    }\n",
        "    th, td {\n",
        "        border: 1px solid #dddddd;\n",
        "        text-align: center;\n",
        "        padding: 8px;\n",
        "    }\n",
        "    th {\n",
        "        background-color: #f2f2f2;\n",
        "        color: #333;\n",
        "    }\n",
        "    tr:nth-child(even) {\n",
        "        background-color: #f9f9f9;\n",
        "    }\n",
        "    tr:hover {\n",
        "        background-color: #f1f1f1;\n",
        "    }\n",
        "</style>\n",
        "<table>\n",
        "    <thead>\n",
        "        <tr>\n",
        "            <th>ESM-2 Model Version (Shorthand)</th>\n",
        "            <th># Layers</th>\n",
        "            <th># Params</th>\n",
        "            <th>Embedding Dim</th>\n",
        "        </tr>\n",
        "    </thead>\n",
        "    <tbody>\n",
        "        <tr>\n",
        "            <td>esm2_t48_15B_UR50D (t48)</td>\n",
        "            <td>48</td>\n",
        "            <td>15B</td>\n",
        "            <td>5120</td>\n",
        "        </tr>\n",
        "        <tr>\n",
        "            <td>esm2_t36_3B_UR50D (t36)</td>\n",
        "            <td>36</td>\n",
        "            <td>3B</td>\n",
        "            <td>2560</td>\n",
        "        </tr>\n",
        "        <tr>\n",
        "            <td>esm2_t33_650M_UR50D (t33)</td>\n",
        "            <td>33</td>\n",
        "            <td>650M</td>\n",
        "            <td>1280</td>\n",
        "        </tr>\n",
        "        <tr>\n",
        "            <td>esm2_t30_150M_UR50D (t30)</td>\n",
        "            <td>30</td>\n",
        "            <td>150M</td>\n",
        "            <td>640</td>\n",
        "        </tr>\n",
        "        <tr>\n",
        "            <td>esm2_t12_35M_UR50D (t12)</td>\n",
        "            <td>12</td>\n",
        "            <td>35M</td>\n",
        "            <td>480</td>\n",
        "        </tr>\n",
        "        <tr>\n",
        "            <td>esm2_t6_8M_UR50D (t6)</td>\n",
        "            <td>6</td>\n",
        "            <td>8M</td>\n",
        "            <td>320</td>\n",
        "        </tr>\n",
        "    </tbody>\n",
        "</table>\n",
        "\"\"\"\n",
        "\n",
        "display(HTML(html_table))\n",
        "\n",
        "\n"
      ],
      "metadata": {
        "colab": {
          "base_uri": "https://localhost:8080/",
          "height": 276
        },
        "cellView": "form",
        "id": "rjO9olDofYJU",
        "outputId": "9e161ecd-5578-488e-b700-28e9535bed62"
      },
      "execution_count": 7,
      "outputs": [
        {
          "output_type": "display_data",
          "data": {
            "text/plain": [
              "<IPython.core.display.HTML object>"
            ],
            "text/html": [
              "\n",
              "<style>\n",
              "    table {\n",
              "        font-family: Arial, sans-serif;\n",
              "        border-collapse: collapse;\n",
              "        width: 80%;\n",
              "        margin: auto;\n",
              "        font-size: 16px;\n",
              "    }\n",
              "    th, td {\n",
              "        border: 1px solid #dddddd;\n",
              "        text-align: center;\n",
              "        padding: 8px;\n",
              "    }\n",
              "    th {\n",
              "        background-color: #f2f2f2;\n",
              "        color: #333;\n",
              "    }\n",
              "    tr:nth-child(even) {\n",
              "        background-color: #f9f9f9;\n",
              "    }\n",
              "    tr:hover {\n",
              "        background-color: #f1f1f1;\n",
              "    }\n",
              "</style>\n",
              "<table>\n",
              "    <thead>\n",
              "        <tr>\n",
              "            <th>ESM-2 Model Version (Shorthand)</th>\n",
              "            <th># Layers</th>\n",
              "            <th># Params</th>\n",
              "            <th>Embedding Dim</th>\n",
              "        </tr>\n",
              "    </thead>\n",
              "    <tbody>\n",
              "        <tr>\n",
              "            <td>esm2_t48_15B_UR50D (t48)</td>\n",
              "            <td>48</td>\n",
              "            <td>15B</td>\n",
              "            <td>5120</td>\n",
              "        </tr>\n",
              "        <tr>\n",
              "            <td>esm2_t36_3B_UR50D (t36)</td>\n",
              "            <td>36</td>\n",
              "            <td>3B</td>\n",
              "            <td>2560</td>\n",
              "        </tr>\n",
              "        <tr>\n",
              "            <td>esm2_t33_650M_UR50D (t33)</td>\n",
              "            <td>33</td>\n",
              "            <td>650M</td>\n",
              "            <td>1280</td>\n",
              "        </tr>\n",
              "        <tr>\n",
              "            <td>esm2_t30_150M_UR50D (t30)</td>\n",
              "            <td>30</td>\n",
              "            <td>150M</td>\n",
              "            <td>640</td>\n",
              "        </tr>\n",
              "        <tr>\n",
              "            <td>esm2_t12_35M_UR50D (t12)</td>\n",
              "            <td>12</td>\n",
              "            <td>35M</td>\n",
              "            <td>480</td>\n",
              "        </tr>\n",
              "        <tr>\n",
              "            <td>esm2_t6_8M_UR50D (t6)</td>\n",
              "            <td>6</td>\n",
              "            <td>8M</td>\n",
              "            <td>320</td>\n",
              "        </tr>\n",
              "    </tbody>\n",
              "</table>\n"
            ]
          },
          "metadata": {}
        }
      ]
    },
    {
      "cell_type": "code",
      "source": [
        "def load_esm2_model(shorthand):\n",
        "    \"\"\"\n",
        "    Load a pretrained ESM-2 model based on its shorthand identifier.\n",
        "\n",
        "    Args:\n",
        "        shorthand (str): Model shorthand (e.g., 't12', 't33').\n",
        "\n",
        "    Returns:\n",
        "        model: Loaded ESM-2 model.\n",
        "        alphabet: Alphabet object from the ESM-2 model.\n",
        "        layer_num (int): Number of layers in the selected model.\n",
        "    \"\"\"\n",
        "    # Define model versions\n",
        "    model_versions = {\n",
        "        \"t48\": (\"esm2_t48_15B_UR50D\", 48),\n",
        "        \"t36\": (\"esm2_t36_3B_UR50D\", 36),\n",
        "        \"t33\": (\"esm2_t33_650M_UR50D\", 33),\n",
        "        \"t30\": (\"esm2_t30_150M_UR50D\", 30),\n",
        "        \"t12\": (\"esm2_t12_35M_UR50D\", 12),\n",
        "        \"t6\": (\"esm2_t6_8M_UR50D\", 6),\n",
        "    }\n",
        "\n",
        "    # Load model\n",
        "    if shorthand not in model_versions:\n",
        "        raise ValueError(f\"Invalid model shorthand '{shorthand}'.\")\n",
        "\n",
        "    model_name, layer_num = model_versions[shorthand]\n",
        "    model, alphabet = torch.hub.load(\"facebookresearch/esm:main\", model_name)\n",
        "    batch_converter = alphabet.get_batch_converter()\n",
        "\n",
        "    return model, alphabet, layer_num, batch_converter\n",
        "\n",
        "# Define and load model\n",
        "shorthand = \"t12\"  # Choose model shorthand\n",
        "model, alphabet, layer_num, batch_converter = load_esm2_model(shorthand)"
      ],
      "metadata": {
        "colab": {
          "base_uri": "https://localhost:8080/"
        },
        "id": "IvYVJVYTCNqj",
        "outputId": "239b1c35-cd0f-45eb-db2f-7e578cd5750e"
      },
      "execution_count": 8,
      "outputs": [
        {
          "output_type": "stream",
          "name": "stderr",
          "text": [
            "Downloading: \"https://github.com/facebookresearch/esm/zipball/main\" to /root/.cache/torch/hub/main.zip\n",
            "Downloading: \"https://dl.fbaipublicfiles.com/fair-esm/models/esm2_t12_35M_UR50D.pt\" to /root/.cache/torch/hub/checkpoints/esm2_t12_35M_UR50D.pt\n",
            "Downloading: \"https://dl.fbaipublicfiles.com/fair-esm/regression/esm2_t12_35M_UR50D-contact-regression.pt\" to /root/.cache/torch/hub/checkpoints/esm2_t12_35M_UR50D-contact-regression.pt\n"
          ]
        }
      ]
    },
    {
      "cell_type": "markdown",
      "source": [
        "### Embedding Extraction\n",
        "This section extracts sequence embeddings using the ESM-2 model. Two types of embeddings are generated:\n",
        "1. **Sequence Representations**: Averaged representations of all tokens in the sequence.\n",
        "2. **CLS Token Representations**: Representations of the first token in the sequence.\n"
      ],
      "metadata": {
        "id": "dCyIYyOEbAhm"
      }
    },
    {
      "cell_type": "code",
      "source": [
        "def extract_sequence_representations(\n",
        "    data,\n",
        "    batch_converter,\n",
        "    model,\n",
        "    device,\n",
        "    alphabet,\n",
        "    last_layer_num,\n",
        "    batch_size=8\n",
        "):\n",
        "    \"\"\"\n",
        "    Extracts sequence embeddings using a pre-trained ESM2 model.\n",
        "\n",
        "    Args:\n",
        "        data (list): List of tuples containing (label, sequence).\n",
        "        batch_converter (callable): Converts batch data to input tensors for the model.\n",
        "        model (torch.nn.Module): Pre-trained ESM-2 model.\n",
        "        device (torch.device): Device to run the model on ('cuda' or 'cpu').\n",
        "        alphabet: Alphabet object used by the model.\n",
        "        last_layer_num (int): Layer number to extract representations from.\n",
        "        batch_size (int, optional): Batch size for processing sequences. Default is 8.\n",
        "\n",
        "    Returns:\n",
        "        list: Per-sequence averaged embeddings.\n",
        "        list: CLS token embeddings.\n",
        "    \"\"\"\n",
        "    # Initialize storage for embeddings\n",
        "    sequence_representations = []\n",
        "    cls_token_representations = []\n",
        "\n",
        "    # Move the model to the appropriate device\n",
        "    model = model.to(device)\n",
        "    model.eval()  # Set model to evaluation mode\n",
        "\n",
        "    # Calculate total number of batches\n",
        "    num_batches = (len(data) + batch_size - 1) // batch_size\n",
        "\n",
        "    # Process sequences in batches\n",
        "    with tqdm(total=num_batches, desc=\"Processing Batches\", unit=\"batch\") as pbar:\n",
        "        for batch_start in range(0, len(data), batch_size):\n",
        "            batch_data = data[batch_start:batch_start + batch_size]\n",
        "\n",
        "            # Convert batch data to model input format\n",
        "            try:\n",
        "                batch_labels, batch_strs, batch_tokens = batch_converter(batch_data)\n",
        "            except ValueError as e:\n",
        "                print(f\"Error processing batch: {e}\")\n",
        "                pbar.update(1)\n",
        "                continue\n",
        "\n",
        "            # Identify sequence lengths\n",
        "            batch_lens = (batch_tokens != alphabet.padding_idx).sum(1)\n",
        "\n",
        "            # Move tokens to the specified device\n",
        "            batch_tokens = batch_tokens.to(device)\n",
        "\n",
        "            # Forward pass to obtain embeddings\n",
        "            with torch.no_grad():\n",
        "                results = model(batch_tokens, repr_layers=[last_layer_num], return_contacts=False)\n",
        "            token_representations = results[\"representations\"][last_layer_num].to(\"cpu\")\n",
        "\n",
        "            # Extract embeddings for each sequence in the batch\n",
        "            for idx, tokens_len in enumerate(batch_lens):\n",
        "                # Average token embeddings, excluding special tokens\n",
        "                sequence_representation = token_representations[idx, 1:tokens_len - 1].mean(0)\n",
        "                sequence_representations.append(sequence_representation)\n",
        "\n",
        "                # Extract the CLS token representation\n",
        "                cls_token_representation = token_representations[idx, 0]\n",
        "                cls_token_representations.append(cls_token_representation)\n",
        "\n",
        "            pbar.update(1)  # Update progress bar\n",
        "\n",
        "    return sequence_representations, cls_token_representations\n"
      ],
      "metadata": {
        "id": "l38TEE5fbS1k"
      },
      "execution_count": 9,
      "outputs": []
    },
    {
      "cell_type": "code",
      "source": [
        "# Define batch size\n",
        "batch_size = 8"
      ],
      "metadata": {
        "id": "Q4tvPQx8EzU8"
      },
      "execution_count": 10,
      "outputs": []
    },
    {
      "cell_type": "code",
      "source": [
        "# Use GPU if available\n",
        "device = torch.device(\"cuda\" if torch.cuda.is_available() else \"cpu\")"
      ],
      "metadata": {
        "id": "LIeaNSM_GPX-"
      },
      "execution_count": 11,
      "outputs": []
    },
    {
      "cell_type": "code",
      "source": [
        "# Extract embeddings for the training set\n",
        "\n",
        "print(\"Extracting embeddings for training data...\")\n",
        "\n",
        "train_seq_representations, train_cls_representations = extract_sequence_representations(\n",
        "    data=train_data,\n",
        "    batch_converter=batch_converter,\n",
        "    model=model,\n",
        "    device=device,\n",
        "    alphabet=alphabet,\n",
        "    last_layer_num=layer_num,\n",
        "    batch_size=batch_size,\n",
        ")\n",
        "\n",
        "# Save embeddings and labels\n",
        "pd.DataFrame([rep.cpu().numpy() for rep in train_seq_representations]).to_csv(\n",
        "    \"train_sequence_embeddings.csv\", index=False\n",
        ")\n",
        "pd.DataFrame([rep.cpu().numpy() for rep in train_cls_representations]).to_csv(\n",
        "    \"train_cls_embeddings.csv\", index=False\n",
        ")\n",
        "pd.DataFrame({\"label\": train_labels}).to_csv(\"train_labels.csv\", index=False)\n",
        "\n",
        "\n",
        "print(\"Training embeddings saved.\")"
      ],
      "metadata": {
        "colab": {
          "base_uri": "https://localhost:8080/"
        },
        "id": "szdOreQwIhJB",
        "outputId": "577bca53-0a73-4a55-f69f-9d0450637646"
      },
      "execution_count": 12,
      "outputs": [
        {
          "output_type": "stream",
          "name": "stdout",
          "text": [
            "Extracting embeddings for training data...\n"
          ]
        },
        {
          "output_type": "stream",
          "name": "stderr",
          "text": [
            "Processing Batches: 100%|██████████| 951/951 [00:33<00:00, 28.51batch/s]\n"
          ]
        },
        {
          "output_type": "stream",
          "name": "stdout",
          "text": [
            "Training embeddings saved.\n"
          ]
        }
      ]
    },
    {
      "cell_type": "code",
      "source": [
        "# Extract embeddings for the test set\n",
        "\n",
        "print(\"Extracting embeddings for test data...\")\n",
        "\n",
        "test_seq_representations, test_cls_representations = extract_sequence_representations(\n",
        "    data=test_data,\n",
        "    batch_converter=batch_converter,\n",
        "    model=model,\n",
        "    device=device,\n",
        "    alphabet=alphabet,\n",
        "    last_layer_num=layer_num,\n",
        "    batch_size=batch_size,\n",
        ")\n",
        "\n",
        "# Save embeddings and labels\n",
        "pd.DataFrame([rep.cpu().numpy() for rep in test_seq_representations]).to_csv(\n",
        "    \"test_sequence_embeddings.csv\", index=False\n",
        ")\n",
        "pd.DataFrame([rep.cpu().numpy() for rep in test_cls_representations]).to_csv(\n",
        "    \"test_cls_embeddings.csv\", index=False\n",
        ")\n",
        "pd.DataFrame({\"label\": test_labels}).to_csv(\"test_labels.csv\", index=False)\n",
        "\n",
        "\n",
        "print(\"Test embeddings saved.\")"
      ],
      "metadata": {
        "colab": {
          "base_uri": "https://localhost:8080/"
        },
        "id": "J4yN6nTxb3ES",
        "outputId": "12e027e0-6c7e-4d64-c10f-365ef1fe97c1"
      },
      "execution_count": 13,
      "outputs": [
        {
          "output_type": "stream",
          "name": "stdout",
          "text": [
            "Extracting embeddings for test data...\n"
          ]
        },
        {
          "output_type": "stream",
          "name": "stderr",
          "text": [
            "Processing Batches: 100%|██████████| 352/352 [00:11<00:00, 29.82batch/s]\n"
          ]
        },
        {
          "output_type": "stream",
          "name": "stdout",
          "text": [
            "Test embeddings saved.\n"
          ]
        }
      ]
    },
    {
      "cell_type": "markdown",
      "source": [
        "### SVM Model Training and Evaluation\n",
        "Train a Support Vector Machine (SVM) classifier using the extracted embeddings and evaluate its performance on the test dataset.\n"
      ],
      "metadata": {
        "id": "FcG56YLgcYW3"
      }
    },
    {
      "cell_type": "code",
      "source": [
        "# Load saved embeddings and labels\n",
        "train_embeddings = pd.read_csv(\"train_sequence_embeddings.csv\").values\n",
        "train_labels = pd.read_csv(\"train_labels.csv\")[\"label\"].values\n",
        "test_embeddings = pd.read_csv(\"test_sequence_embeddings.csv\").values\n",
        "test_labels = pd.read_csv(\"test_labels.csv\")[\"label\"].values\n",
        "\n",
        "# Initialize SVM\n",
        "svm_model = SVC(kernel=\"rbf\", C=10.0, gamma=\"scale\", probability=True)\n",
        "\n",
        "# Train the model\n",
        "print(\"Training SVM...\")\n",
        "svm_model.fit(train_embeddings, train_labels)\n",
        "print(\"Training complete!\")\n"
      ],
      "metadata": {
        "id": "hlCsY88lJKed",
        "colab": {
          "base_uri": "https://localhost:8080/"
        },
        "outputId": "aa7b2685-77cd-4330-a253-725ebf59138b"
      },
      "execution_count": 14,
      "outputs": [
        {
          "output_type": "stream",
          "name": "stdout",
          "text": [
            "Training SVM...\n",
            "Training complete!\n"
          ]
        }
      ]
    },
    {
      "cell_type": "code",
      "source": [
        "# Make predictions\n",
        "test_predictions = svm_model.predict(test_embeddings)\n",
        "test_probabilities = svm_model.predict_proba(test_embeddings)[:, 1]  # Get probabilities for positive class"
      ],
      "metadata": {
        "id": "PwSKZCpZJZsu"
      },
      "execution_count": 15,
      "outputs": []
    },
    {
      "cell_type": "code",
      "source": [
        "from sklearn.metrics import accuracy_score, f1_score, matthews_corrcoef, precision_score, recall_score, roc_auc_score, confusion_matrix, ConfusionMatrixDisplay\n",
        "\n",
        "# Calculate metrics\n",
        "accuracy = accuracy_score(test_labels, test_predictions)\n",
        "f1 = f1_score(test_labels, test_predictions)\n",
        "mcc = matthews_corrcoef(test_labels, test_predictions)\n",
        "precision = precision_score(test_labels, test_predictions)\n",
        "recall = recall_score(test_labels, test_predictions)\n",
        "roc_auc = roc_auc_score(test_labels, test_probabilities)\n",
        "\n",
        "metrics = {\n",
        "    \"accuracy\": accuracy,\n",
        "    \"f1\": f1,\n",
        "    \"mcc\": mcc,\n",
        "    \"precision\": precision,\n",
        "    \"recall\": recall,\n",
        "    \"roc_auc\": roc_auc,\n",
        "}\n",
        "\n",
        "print(\"Metrics:\")\n",
        "from pprint import pprint\n",
        "pprint(metrics)\n",
        "\n",
        "# Confusion Matrix\n",
        "cm = confusion_matrix(test_labels, test_predictions)\n",
        "disp = ConfusionMatrixDisplay(confusion_matrix=cm, display_labels=[\"Non-AMP\", \"AMP\"])\n",
        "disp.plot(cmap=plt.cm.Blues)\n",
        "plt.title(\"Confusion Matrix\")\n",
        "plt.show()"
      ],
      "metadata": {
        "colab": {
          "base_uri": "https://localhost:8080/",
          "height": 593
        },
        "id": "yIXRRwmMvOvR",
        "outputId": "706ee970-a3bd-4063-9e18-eb85e2afb484"
      },
      "execution_count": 16,
      "outputs": [
        {
          "output_type": "stream",
          "name": "stdout",
          "text": [
            "Metrics:\n",
            "{'accuracy': 0.7468039772727273,\n",
            " 'f1': 0.684931506849315,\n",
            " 'mcc': 0.536738749956782,\n",
            " 'precision': 0.9064327485380117,\n",
            " 'recall': 0.5504261363636364,\n",
            " 'roc_auc': 0.8168055006295196}\n"
          ]
        },
        {
          "output_type": "display_data",
          "data": {
            "text/plain": [
              "<Figure size 640x480 with 2 Axes>"
            ],
            "image/png": "[encoded data removed]"
          },
          "metadata": {}
        }
      ]
    }
  ]
}