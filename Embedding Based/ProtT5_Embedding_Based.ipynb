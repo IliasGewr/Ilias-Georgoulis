{
  "cells": [
    {
      "cell_type": "markdown",
      "metadata": {
        "id": "qwtBDwT6B-QD"
      },
      "source": [
        "# ProtT5 Embeddings Extraction and Antimicrobial Peptide (AMP) Classification\n",
        "\n",
        "## Overview\n",
        "This notebook demonstrates the process of:\n",
        "1. Extracting and saving sequence embeddings from protein sequences using ProtT5 models.\n",
        "2. Train an SVM classifier to perform AMP classification (AMP vs non-AMP ).\n",
        "3. Evaluate SVM performance on an independent test set and calculate important metrics.\n",
        "\n",
        "\n"
      ]
    },
    {
      "cell_type": "code",
      "execution_count": null,
      "metadata": {
        "id": "O5quCzJuGuWs"
      },
      "outputs": [],
      "source": [
        "# Install dependencies\n",
        "!pip install biopython numpy pandas torch tqdm scikit-learn seaborn matplotlib"
      ]
    },
    {
      "cell_type": "code",
      "execution_count": 2,
      "metadata": {
        "id": "yX983fF7B_Cm"
      },
      "outputs": [],
      "source": [
        "# Import necessary libraries\n",
        "import numpy as np\n",
        "import pandas as pd\n",
        "from Bio import SeqIO\n",
        "import torch\n",
        "import gc\n",
        "import os\n",
        "from tqdm import tqdm\n",
        "from sklearn.svm import SVC\n",
        "from sklearn.metrics import accuracy_score, classification_report, confusion_matrix\n",
        "import seaborn as sns\n",
        "import matplotlib.pyplot as plt\n",
        "from transformers import T5Tokenizer, T5EncoderModel\n",
        "import re"
      ]
    },
    {
      "cell_type": "code",
      "source": [
        "# Use GPU if available\n",
        "device = torch.device(\"cuda\" if torch.cuda.is_available() else \"cpu\")\n",
        "\n",
        "print(\"Using device: {}\".format(device))"
      ],
      "metadata": {
        "colab": {
          "base_uri": "https://localhost:8080/"
        },
        "id": "FehWxNzRZ5JY",
        "outputId": "702cd721-3bef-4fb7-b34d-aa5de1412d0d"
      },
      "execution_count": 3,
      "outputs": [
        {
          "output_type": "stream",
          "name": "stdout",
          "text": [
            "Using device: cuda\n"
          ]
        }
      ]
    },
    {
      "cell_type": "markdown",
      "metadata": {
        "id": "upcjNYWWG8j6"
      },
      "source": [
        "## Helper Functions for Data Loading and Preparation"
      ]
    },
    {
      "cell_type": "code",
      "execution_count": 4,
      "metadata": {
        "id": "QkoQaYzvP9Sy"
      },
      "outputs": [],
      "source": [
        "def load_fasta(file_path):\n",
        "    \"\"\"\n",
        "    Load sequences from a FASTA file and return them in a DataFrame.\n",
        "\n",
        "    Args:\n",
        "        file_path (str): Path to the FASTA file.\n",
        "\n",
        "    Returns:\n",
        "        pd.DataFrame: DataFrame containing 'seq_id' and 'sequence'.\n",
        "    \"\"\"\n",
        "    with open(os.path.abspath(file_path)) as fasta_file:\n",
        "        seq_ids, sequences = [], []\n",
        "        for seq_record in SeqIO.parse(fasta_file, \"fasta\"):\n",
        "            sequences.append(str(seq_record.seq))\n",
        "            seq_ids.append(seq_record.id)\n",
        "    data = pd.DataFrame({\"seq_id\": seq_ids, \"sequence\": sequences})\n",
        "    data.drop_duplicates(inplace=True)\n",
        "    data.reset_index(drop=True, inplace=True)\n",
        "    return data\n"
      ]
    },
    {
      "cell_type": "code",
      "execution_count": 5,
      "metadata": {
        "id": "MkLUia04CL7D"
      },
      "outputs": [],
      "source": [
        "def preprocess_sequences(data):\n",
        "    \"\"\"\n",
        "    Preprocess sequences by separating letters and replacing invalid characters.\n",
        "\n",
        "    Args:\n",
        "        data (pd.DataFrame): DataFrame containing sequences.\n",
        "\n",
        "    Returns:\n",
        "        pd.DataFrame: Updated DataFrame with 'Separated' and 'Processed' columns.\n",
        "    \"\"\"\n",
        "    def process_sequence(sequence):\n",
        "        # Separate letters with spaces and replace invalid characters\n",
        "        separated = ' '.join(sequence)\n",
        "        processed = re.sub(r\"[UZOB]\", \"X\", separated)\n",
        "        return separated, processed\n",
        "\n",
        "    # Apply preprocessing to each sequence\n",
        "    data[['Separated', 'Processed']] = data['sequence'].apply(\n",
        "        lambda seq: pd.Series(process_sequence(seq))\n",
        "    )\n",
        "    return data\n",
        "\n",
        "\n",
        "def prepare_dataset_with_preprocessing(amp_fasta, non_amp_fasta):\n",
        "    \"\"\"\n",
        "    Prepare datasets by loading and preprocessing AMP and non-AMP sequences.\n",
        "\n",
        "    Args:\n",
        "        amp_fasta (str): Path to the AMP FASTA file.\n",
        "        non_amp_fasta (str): Path to the non-AMP FASTA file.\n",
        "\n",
        "    Returns:\n",
        "        tuple: (data, labels) where:\n",
        "            - data (pd.DataFrame): Contains seq_id, sequence, Separated, and Processed columns.\n",
        "            - labels (list of int): Binary labels (1 for AMP, 0 for non-AMP).\n",
        "    \"\"\"\n",
        "    amp_data = load_fasta(amp_fasta)\n",
        "    non_amp_data = load_fasta(non_amp_fasta)\n",
        "\n",
        "    # Preprocess the sequences\n",
        "    amp_data = preprocess_sequences(amp_data)\n",
        "    non_amp_data = preprocess_sequences(non_amp_data)\n",
        "\n",
        "    # Combine data and create labels\n",
        "    data = pd.concat([amp_data, non_amp_data], ignore_index=True)\n",
        "    labels = [1] * len(amp_data) + [0] * len(non_amp_data)\n",
        "\n",
        "    return data, labels"
      ]
    },
    {
      "cell_type": "markdown",
      "metadata": {
        "id": "5oa4SxVpZSJ_"
      },
      "source": [
        "### Data Preparation\n",
        "Loading and processing training and test datasets.\n"
      ]
    },
    {
      "cell_type": "code",
      "execution_count": 6,
      "metadata": {
        "id": "5tUPXQv3G2Pb"
      },
      "outputs": [],
      "source": [
        "# File paths for training and test datasets\n",
        "train_amp_fasta = \"/path/to/your/folder/DRAMP_pretrain_train_positive.fasta\"\n",
        "train_non_amp_fasta = \"/path/to/your/folder/DRAMP_pretrain_train_negative.fasta\"\n",
        "test_amp_fasta = \"/path/to/your/folder/DRAMP_AMP.fasta\"\n",
        "test_non_amp_fasta = \"/path/to/your/folder/DRAMP_nonAMP.fasta\"\n"
      ]
    },
    {
      "cell_type": "code",
      "execution_count": 7,
      "metadata": {
        "colab": {
          "base_uri": "https://localhost:8080/"
        },
        "id": "kawQhLMpH2iD",
        "outputId": "5a680335-aff5-4a50-b1af-bce560f228d2"
      },
      "outputs": [
        {
          "output_type": "stream",
          "name": "stdout",
          "text": [
            "Sample Processed Training Data:\n",
            "            seq_id                                           sequence  \\\n",
            "0       DRAMP02197  MFTMKKSLLLFFFLGTISLSLCEEERGADEDDGVELTEEEVKRGLL...   \n",
            "1       AMPfun_779                                       GATPEDLNQKLS   \n",
            "2        ADAM_1998                       GIMDSVKGLAKNLAGKLLDSLKCKITGC   \n",
            "3        ADAM_5276                         RFRLPFRRPPIRIHPPPFYPPFRRFL   \n",
            "4  LAMP_L01A001891     KGLKKDSDFRRVGISVSKKVGKAITRNRVRRLIKEKIKDIVFIKNL   \n",
            "\n",
            "                                           Separated  \\\n",
            "0  M F T M K K S L L L F F F L G T I S L S L C E ...   \n",
            "1                            G A T P E D L N Q K L S   \n",
            "2  G I M D S V K G L A K N L A G K L L D S L K C ...   \n",
            "3  R F R L P F R R P P I R I H P P P F Y P P F R ...   \n",
            "4  K G L K K D S D F R R V G I S V S K K V G K A ...   \n",
            "\n",
            "                                           Processed  \n",
            "0  M F T M K K S L L L F F F L G T I S L S L C E ...  \n",
            "1                            G A T P E D L N Q K L S  \n",
            "2  G I M D S V K G L A K N L A G K L L D S L K C ...  \n",
            "3  R F R L P F R R P P I R I H P P P F Y P P F R ...  \n",
            "4  K G L K K D S D F R R V G I S V S K K V G K A ...  \n"
          ]
        }
      ],
      "source": [
        "# Prepare datasets\n",
        "train_data, train_labels = prepare_dataset_with_preprocessing(train_amp_fasta, train_non_amp_fasta)\n",
        "test_data, test_labels = prepare_dataset_with_preprocessing(test_amp_fasta, test_non_amp_fasta)\n",
        "\n",
        "# Display sample processed data\n",
        "print(\"Sample Processed Training Data:\")\n",
        "print(train_data.head())"
      ]
    },
    {
      "cell_type": "markdown",
      "metadata": {
        "id": "mStnhY5NIbVU"
      },
      "source": [
        "### ProtT5 Model Selection and Loading\n",
        "Select model and provide the shorthand to load_prott5_model function to load it."
      ]
    },
    {
      "cell_type": "code",
      "execution_count": 8,
      "metadata": {
        "cellView": "form",
        "colab": {
          "base_uri": "https://localhost:8080/",
          "height": 240
        },
        "id": "oCkgQ6WPIBtC",
        "outputId": "b1fd080e-3e2f-4a93-c343-bcda40fba2d3"
      },
      "outputs": [
        {
          "output_type": "display_data",
          "data": {
            "text/plain": [
              "<IPython.core.display.HTML object>"
            ],
            "text/html": [
              "\n",
              "<style>\n",
              "    table {\n",
              "        font-family: Arial, sans-serif;\n",
              "        border-collapse: collapse;\n",
              "        width: 80%;\n",
              "        margin: auto;\n",
              "        font-size: 16px;\n",
              "    }\n",
              "    th, td {\n",
              "        border: 1px solid #dddddd;\n",
              "        text-align: center;\n",
              "        padding: 8px;\n",
              "    }\n",
              "    th {\n",
              "        background-color: #f2f2f2;\n",
              "        color: #333;\n",
              "    }\n",
              "    tr:nth-child(even) {\n",
              "        background-color: #f9f9f9;\n",
              "    }\n",
              "    tr:hover {\n",
              "        background-color: #f1f1f1;\n",
              "    }\n",
              "</style>\n",
              "<table>\n",
              "    <thead>\n",
              "        <tr>\n",
              "            <th>ProtT5 Model Version (Shorthand)</th>\n",
              "            <th># Params</th>\n",
              "            <th>Embedding Dim</th>\n",
              "            <th>Training Dataset</th>\n",
              "        </tr>\n",
              "    </thead>\n",
              "    <tbody>\n",
              "        <tr>\n",
              "            <td>prot_t5_xl_half_uniref50-enc (xl_half)</td>\n",
              "            <td>3B</td>\n",
              "            <td>1024</td>\n",
              "            <td>UniRef50</td>\n",
              "        </tr>\n",
              "        <tr>\n",
              "            <td>prot_t5_xl_bfd (xl_bfd)</td>\n",
              "            <td>3B</td>\n",
              "            <td>1024</td>\n",
              "            <td>BFD</td>\n",
              "        </tr>\n",
              "        <tr>\n",
              "            <td>prot_t5_xl_uniref50 (xl_uni)</td>\n",
              "            <td>3B</td>\n",
              "            <td>1024</td>\n",
              "            <td>UniRef50</td>\n",
              "        </tr>\n",
              "        <tr>\n",
              "            <td>prot_t5_xxl_bfd (xxl_bfd)</td>\n",
              "            <td>11B</td>\n",
              "            <td>1024</td>\n",
              "            <td>BFD</td>\n",
              "        </tr>\n",
              "        <tr>\n",
              "            <td>prot_t5_xxl_uniref50 (xxl_uni)</td>\n",
              "            <td>11B</td>\n",
              "            <td>1024</td>\n",
              "            <td>UniRef50</td>\n",
              "        </tr>\n",
              "    </tbody>\n",
              "</table>\n"
            ]
          },
          "metadata": {}
        }
      ],
      "source": [
        "#@title ProtT5 Model Versions Table\n",
        "\n",
        "from IPython.core.display import HTML\n",
        "\n",
        "html_table_prott5 = \"\"\"\n",
        "<style>\n",
        "    table {\n",
        "        font-family: Arial, sans-serif;\n",
        "        border-collapse: collapse;\n",
        "        width: 80%;\n",
        "        margin: auto;\n",
        "        font-size: 16px;\n",
        "    }\n",
        "    th, td {\n",
        "        border: 1px solid #dddddd;\n",
        "        text-align: center;\n",
        "        padding: 8px;\n",
        "    }\n",
        "    th {\n",
        "        background-color: #f2f2f2;\n",
        "        color: #333;\n",
        "    }\n",
        "    tr:nth-child(even) {\n",
        "        background-color: #f9f9f9;\n",
        "    }\n",
        "    tr:hover {\n",
        "        background-color: #f1f1f1;\n",
        "    }\n",
        "</style>\n",
        "<table>\n",
        "    <thead>\n",
        "        <tr>\n",
        "            <th>ProtT5 Model Version (Shorthand)</th>\n",
        "            <th># Params</th>\n",
        "            <th>Embedding Dim</th>\n",
        "            <th>Training Dataset</th>\n",
        "        </tr>\n",
        "    </thead>\n",
        "    <tbody>\n",
        "        <tr>\n",
        "            <td>prot_t5_xl_half_uniref50-enc (xl_half)</td>\n",
        "            <td>3B</td>\n",
        "            <td>1024</td>\n",
        "            <td>UniRef50</td>\n",
        "        </tr>\n",
        "        <tr>\n",
        "            <td>prot_t5_xl_bfd (xl_bfd)</td>\n",
        "            <td>3B</td>\n",
        "            <td>1024</td>\n",
        "            <td>BFD</td>\n",
        "        </tr>\n",
        "        <tr>\n",
        "            <td>prot_t5_xl_uniref50 (xl_uni)</td>\n",
        "            <td>3B</td>\n",
        "            <td>1024</td>\n",
        "            <td>UniRef50</td>\n",
        "        </tr>\n",
        "        <tr>\n",
        "            <td>prot_t5_xxl_bfd (xxl_bfd)</td>\n",
        "            <td>11B</td>\n",
        "            <td>1024</td>\n",
        "            <td>BFD</td>\n",
        "        </tr>\n",
        "        <tr>\n",
        "            <td>prot_t5_xxl_uniref50 (xxl_uni)</td>\n",
        "            <td>11B</td>\n",
        "            <td>1024</td>\n",
        "            <td>UniRef50</td>\n",
        "        </tr>\n",
        "    </tbody>\n",
        "</table>\n",
        "\"\"\"\n",
        "\n",
        "display(HTML(html_table_prott5))\n"
      ]
    },
    {
      "cell_type": "code",
      "execution_count": 9,
      "metadata": {
        "id": "C2RpkCqXIBtB"
      },
      "outputs": [],
      "source": [
        "def load_prott5_model(shorthand):\n",
        "    \"\"\"\n",
        "    Load a pretrained ProtT5 model based on its shorthand identifier.\n",
        "\n",
        "    Args:\n",
        "        shorthand (str): Model shorthand (e.g., 'small', 'base', 'xl').\n",
        "\n",
        "    Returns:\n",
        "        model: Loaded ProtT5 model.\n",
        "        tokenizer: Tokenizer corresponding to the ProtT5 model.\n",
        "    \"\"\"\n",
        "    # Define model versions\n",
        "    model_versions = {\n",
        "        \"xl_half\": \"Rostlab/prot_t5_xl_half_uniref50-enc\",\n",
        "        \"xl_bfd\": \"Rostlab/prot_t5_xl_bfd\",\n",
        "        \"xl_uni\": \"Rostlab/prot_t5_xl_uniref50\",\n",
        "        \"xxl_bfd\": \"Rostlab/prot_t5_xxl_bfd\",\n",
        "        \"xxl_uni\": \"Rostlab/prot_t5_xxl_uniref50\",\n",
        "    }\n",
        "\n",
        "    # Load model\n",
        "    if shorthand not in model_versions:\n",
        "        raise ValueError(f\"Invalid model shorthand '{shorthand}'. Available options: {list(model_versions.keys())}\")\n",
        "\n",
        "    model_name = model_versions[shorthand]\n",
        "    model = T5EncoderModel.from_pretrained(model_name)\n",
        "    tokenizer = T5Tokenizer.from_pretrained(model_name, do_lower_case=False)\n",
        "\n",
        "    return model, tokenizer\n"
      ]
    },
    {
      "cell_type": "code",
      "execution_count": null,
      "metadata": {
        "id": "62m7OYGsIBtC"
      },
      "outputs": [],
      "source": [
        "# Define and load model\n",
        "shorthand = \"xl_uni\"  # Choose model shorthand\n",
        "model, tokenizer = load_prott5_model(shorthand)\n",
        "model.to(device)"
      ]
    },
    {
      "cell_type": "markdown",
      "metadata": {
        "id": "wXXj7vdHHvJ2"
      },
      "source": [
        "### Embedding Extraction\n",
        "This section extracts sequence embeddings using the ProtT5 model."
      ]
    },
    {
      "cell_type": "code",
      "source": [
        "def tokenize_sequences(data):\n",
        "    \"\"\"\n",
        "    Tokenize sequences using ProtT5 tokenizer.\n",
        "\n",
        "    Args:\n",
        "        data (pd.DataFrame): DataFrame with processed sequences.\n",
        "\n",
        "    Returns:\n",
        "        tuple: Tokenized input IDs and attention masks as torch tensors.\n",
        "    \"\"\"\n",
        "    tokenized = tokenizer.batch_encode_plus(\n",
        "        data['Processed'].tolist(),\n",
        "        add_special_tokens=True,\n",
        "        padding=\"longest\"\n",
        "    )\n",
        "    input_ids = torch.tensor(tokenized['input_ids']).to(device)\n",
        "    attention_mask = torch.tensor(tokenized['attention_mask']).to(device)\n",
        "    return input_ids, attention_mask"
      ],
      "metadata": {
        "id": "hFoTC4bkSEyJ"
      },
      "execution_count": 11,
      "outputs": []
    },
    {
      "cell_type": "code",
      "execution_count": 12,
      "metadata": {
        "id": "fp0eLJml2ME5"
      },
      "outputs": [],
      "source": [
        "def extract_embeddings(model, input_ids, attention_mask, batch_size=36):\n",
        "    \"\"\"\n",
        "    Extract mean embeddings for sequences using ProtT5.\n",
        "\n",
        "    Args:\n",
        "        model (T5EncoderModel): Pretrained ProtT5 model.\n",
        "        input_ids (torch.Tensor): Tokenized input IDs.\n",
        "        attention_mask (torch.Tensor): Attention mask for sequences.\n",
        "        batch_size (int): Batch size for processing.\n",
        "\n",
        "    Returns:\n",
        "        np.ndarray: Array of mean-pooled embeddings.\n",
        "    \"\"\"\n",
        "    embeddings = []\n",
        "    model.eval()\n",
        "\n",
        "    for i in tqdm(range(0, len(input_ids), batch_size), desc=\"Extracting embeddings\"):\n",
        "        batch_input_ids = input_ids[i:i+batch_size]\n",
        "        batch_attention_mask = attention_mask[i:i+batch_size]\n",
        "\n",
        "        with torch.no_grad():\n",
        "            outputs = model(batch_input_ids, attention_mask=batch_attention_mask)\n",
        "            hidden_states = outputs.last_hidden_state.cpu().numpy()\n",
        "\n",
        "            # Mean pooling\n",
        "            for idx in range(len(batch_input_ids)):\n",
        "                seq_len = (batch_attention_mask[idx] == 1).sum().item()\n",
        "                embeddings.append(hidden_states[idx][:seq_len-1].mean(axis=0))\n",
        "\n",
        "    return np.vstack(embeddings)"
      ]
    },
    {
      "cell_type": "code",
      "source": [
        "# Define batch size\n",
        "batch_size = 32"
      ],
      "metadata": {
        "id": "tQ7Vp5WJSLJQ"
      },
      "execution_count": 13,
      "outputs": []
    },
    {
      "cell_type": "code",
      "source": [
        "# Process training data\n",
        "print(\"Processing training data...\")\n",
        "\n",
        "# Tokenize and extract embeddings for training data\n",
        "train_input_ids, train_attention_mask = tokenize_sequences(train_data)\n",
        "train_embeddings = extract_embeddings(model, train_input_ids, train_attention_mask, batch_size=batch_size)\n",
        "\n",
        "# Save training embeddings and labels\n",
        "pd.DataFrame(train_embeddings).to_csv(\"train_embeddings.csv\", index=False)\n",
        "pd.DataFrame({\"label\": train_labels}).to_csv(\"train_labels.csv\", index=False)\n",
        "print(\"Training embeddings saved!\")"
      ],
      "metadata": {
        "colab": {
          "base_uri": "https://localhost:8080/"
        },
        "id": "fN3Bvd_dSYt-",
        "outputId": "8f15a19b-829f-4f68-a6d6-63b605372713"
      },
      "execution_count": 14,
      "outputs": [
        {
          "output_type": "stream",
          "name": "stdout",
          "text": [
            "Processing training data...\n"
          ]
        },
        {
          "output_type": "stream",
          "name": "stderr",
          "text": [
            "Extracting embeddings: 100%|██████████| 238/238 [03:11<00:00,  1.24it/s]\n"
          ]
        },
        {
          "output_type": "stream",
          "name": "stdout",
          "text": [
            "Training embeddings saved!\n"
          ]
        }
      ]
    },
    {
      "cell_type": "code",
      "source": [
        "# Process test data\n",
        "print(\"Processing test data...\")\n",
        "\n",
        "# Tokenize and extract embeddings for test data\n",
        "test_input_ids, test_attention_mask = tokenize_sequences(test_data)\n",
        "test_embeddings = extract_embeddings(model, test_input_ids, test_attention_mask, batch_size=batch_size)\n",
        "\n",
        "# Save test embeddings and labels\n",
        "pd.DataFrame(test_embeddings).to_csv(\"test_embeddings.csv\", index=False)\n",
        "pd.DataFrame({\"label\": test_labels}).to_csv(\"test_labels.csv\", index=False)\n",
        "print(\"Test embeddings saved!\")"
      ],
      "metadata": {
        "colab": {
          "base_uri": "https://localhost:8080/"
        },
        "id": "6RyvfvbES2fU",
        "outputId": "bc1502df-d28c-47ef-fad1-1e26d8c317aa"
      },
      "execution_count": 15,
      "outputs": [
        {
          "output_type": "stream",
          "name": "stdout",
          "text": [
            "Processing test data...\n"
          ]
        },
        {
          "output_type": "stream",
          "name": "stderr",
          "text": [
            "Extracting embeddings: 100%|██████████| 88/88 [01:11<00:00,  1.24it/s]\n"
          ]
        },
        {
          "output_type": "stream",
          "name": "stdout",
          "text": [
            "Test embeddings saved!\n"
          ]
        }
      ]
    },
    {
      "cell_type": "markdown",
      "source": [
        "### SVM Model Training and Evaluation\n",
        "Train a Support Vector Machine (SVM) classifier using the extracted embeddings and evaluate its performance on the test dataset.\n"
      ],
      "metadata": {
        "id": "Vqpd8h8ZXhOT"
      }
    },
    {
      "cell_type": "code",
      "source": [
        "# Load saved embeddings and labels\n",
        "print(\"Loading training data...\")\n",
        "train_embeddings = pd.read_csv(\"train_embeddings.csv\").values\n",
        "train_labels = pd.read_csv(\"train_labels.csv\")[\"label\"].values\n",
        "\n",
        "print(\"Loading test data...\")\n",
        "test_embeddings = pd.read_csv(\"test_embeddings.csv\").values\n",
        "test_labels = pd.read_csv(\"test_labels.csv\")[\"label\"].values"
      ],
      "metadata": {
        "colab": {
          "base_uri": "https://localhost:8080/"
        },
        "id": "qNKuc0UVUTeF",
        "outputId": "ac863d89-e126-4eba-9fda-95e4918d43f1"
      },
      "execution_count": 16,
      "outputs": [
        {
          "output_type": "stream",
          "name": "stdout",
          "text": [
            "Loading training data...\n",
            "Loading test data...\n"
          ]
        }
      ]
    },
    {
      "cell_type": "code",
      "execution_count": 17,
      "metadata": {
        "id": "1upxkt7SDXPB",
        "colab": {
          "base_uri": "https://localhost:8080/"
        },
        "outputId": "a4771a9f-836a-4fe2-99bc-c2b5224bd1a4"
      },
      "outputs": [
        {
          "output_type": "stream",
          "name": "stdout",
          "text": [
            "Training the SVM classifier...\n",
            "Training completed.\n"
          ]
        }
      ],
      "source": [
        "from sklearn.svm import SVC\n",
        "\n",
        "# Initialize SVM\n",
        "svm_model = SVC(kernel=\"rbf\", C=10.0, gamma=\"scale\", probability=True)\n",
        "\n",
        "# Train the SVM\n",
        "print(\"Training the SVM classifier...\")\n",
        "svm_model.fit(train_embeddings, train_labels)\n",
        "print(\"Training completed.\")\n"
      ]
    },
    {
      "cell_type": "code",
      "source": [
        "# Make predictions\n",
        "test_predictions = svm_model.predict(test_embeddings)\n",
        "test_probabilities = svm_model.predict_proba(test_embeddings)[:, 1]  # Get probabilities for positive class"
      ],
      "metadata": {
        "id": "PwSKZCpZJZsu"
      },
      "execution_count": 18,
      "outputs": []
    },
    {
      "cell_type": "code",
      "source": [
        "from sklearn.metrics import accuracy_score, f1_score, matthews_corrcoef, precision_score, recall_score, roc_auc_score, confusion_matrix, ConfusionMatrixDisplay\n",
        "\n",
        "# Calculate metrics\n",
        "accuracy = accuracy_score(test_labels, test_predictions)\n",
        "f1 = f1_score(test_labels, test_predictions)\n",
        "mcc = matthews_corrcoef(test_labels, test_predictions)\n",
        "precision = precision_score(test_labels, test_predictions)\n",
        "recall = recall_score(test_labels, test_predictions)\n",
        "roc_auc = roc_auc_score(test_labels, test_probabilities)\n",
        "\n",
        "metrics = {\n",
        "    \"accuracy\": accuracy,\n",
        "    \"f1\": f1,\n",
        "    \"mcc\": mcc,\n",
        "    \"precision\": precision,\n",
        "    \"recall\": recall,\n",
        "    \"roc_auc\": roc_auc,\n",
        "}\n",
        "\n",
        "print(\"Metrics:\")\n",
        "from pprint import pprint\n",
        "pprint(metrics)\n",
        "\n",
        "# Confusion Matrix\n",
        "cm = confusion_matrix(test_labels, test_predictions)\n",
        "disp = ConfusionMatrixDisplay(confusion_matrix=cm, display_labels=[\"Non-AMP\", \"AMP\"])\n",
        "disp.plot(cmap=plt.cm.Blues)\n",
        "plt.title(\"Confusion Matrix\")\n",
        "plt.show()"
      ],
      "metadata": {
        "colab": {
          "base_uri": "https://localhost:8080/",
          "height": 594
        },
        "id": "yIXRRwmMvOvR",
        "outputId": "69cca281-89bc-48f4-c0ce-c25429a1fd6f"
      },
      "execution_count": 19,
      "outputs": [
        {
          "output_type": "stream",
          "name": "stdout",
          "text": [
            "Metrics:\n",
            "{'accuracy': 0.7642045454545454,\n",
            " 'f1': 0.7048888888888889,\n",
            " 'mcc': 0.5770896901892997,\n",
            " 'precision': 0.9418052256532067,\n",
            " 'recall': 0.5632102272727273,\n",
            " 'roc_auc': 0.8433913554041839}\n"
          ]
        },
        {
          "output_type": "display_data",
          "data": {
            "text/plain": [
              "<Figure size 640x480 with 2 Axes>"
            ],
            "image/png": "[encoded data removed]"
          },
          "metadata": {}
        }
      ]
    }
  ],
  "metadata": {
    "accelerator": "GPU",
    "colab": {
      "gpuType": "L4",
      "provenance": [],
      "machine_shape": "hm"
    },
    "kernelspec": {
      "display_name": "Python 3",
      "name": "python3"
    },
    "language_info": {
      "name": "python"
    }
  },
  "nbformat": 4,
  "nbformat_minor": 0
}